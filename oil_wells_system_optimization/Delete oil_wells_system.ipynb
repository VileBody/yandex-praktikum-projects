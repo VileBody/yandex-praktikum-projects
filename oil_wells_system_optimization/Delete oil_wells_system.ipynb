{
 "cells": [
  {
   "cell_type": "markdown",
   "metadata": {},
   "source": [
    "# 1. Загрузка и подготовка данных"
   ]
  },
  {
   "cell_type": "code",
   "execution_count": 1,
   "metadata": {},
   "outputs": [
    {
     "data": {
      "text/html": [
       "<div>\n",
       "<style scoped>\n",
       "    .dataframe tbody tr th:only-of-type {\n",
       "        vertical-align: middle;\n",
       "    }\n",
       "\n",
       "    .dataframe tbody tr th {\n",
       "        vertical-align: top;\n",
       "    }\n",
       "\n",
       "    .dataframe thead th {\n",
       "        text-align: right;\n",
       "    }\n",
       "</style>\n",
       "<table border=\"1\" class=\"dataframe\">\n",
       "  <thead>\n",
       "    <tr style=\"text-align: right;\">\n",
       "      <th></th>\n",
       "      <th>f0</th>\n",
       "      <th>f1</th>\n",
       "      <th>f2</th>\n",
       "      <th>product</th>\n",
       "    </tr>\n",
       "  </thead>\n",
       "  <tbody>\n",
       "    <tr>\n",
       "      <td>0</td>\n",
       "      <td>0.705745</td>\n",
       "      <td>-0.497823</td>\n",
       "      <td>1.221170</td>\n",
       "      <td>105.280062</td>\n",
       "    </tr>\n",
       "    <tr>\n",
       "      <td>1</td>\n",
       "      <td>1.334711</td>\n",
       "      <td>-0.340164</td>\n",
       "      <td>4.365080</td>\n",
       "      <td>73.037750</td>\n",
       "    </tr>\n",
       "    <tr>\n",
       "      <td>2</td>\n",
       "      <td>1.022732</td>\n",
       "      <td>0.151990</td>\n",
       "      <td>1.419926</td>\n",
       "      <td>85.265647</td>\n",
       "    </tr>\n",
       "    <tr>\n",
       "      <td>3</td>\n",
       "      <td>-0.032172</td>\n",
       "      <td>0.139033</td>\n",
       "      <td>2.978566</td>\n",
       "      <td>168.620776</td>\n",
       "    </tr>\n",
       "    <tr>\n",
       "      <td>4</td>\n",
       "      <td>1.988431</td>\n",
       "      <td>0.155413</td>\n",
       "      <td>4.751769</td>\n",
       "      <td>154.036647</td>\n",
       "    </tr>\n",
       "  </tbody>\n",
       "</table>\n",
       "</div>"
      ],
      "text/plain": [
       "         f0        f1        f2     product\n",
       "0  0.705745 -0.497823  1.221170  105.280062\n",
       "1  1.334711 -0.340164  4.365080   73.037750\n",
       "2  1.022732  0.151990  1.419926   85.265647\n",
       "3 -0.032172  0.139033  2.978566  168.620776\n",
       "4  1.988431  0.155413  4.751769  154.036647"
      ]
     },
     "execution_count": 1,
     "metadata": {},
     "output_type": "execute_result"
    }
   ],
   "source": [
    "import pandas as pd\n",
    "from sklearn.linear_model import LinearRegression\n",
    "from sklearn.model_selection import train_test_split\n",
    "from sklearn.metrics import mean_squared_error\n",
    "data_0 = pd.read_csv('/datasets/geo_data_0.csv').drop('id', axis=1)\n",
    "data_1 = pd.read_csv('/datasets/geo_data_1.csv').drop('id', axis=1)\n",
    "data_2 = pd.read_csv('/datasets/geo_data_2.csv').drop('id', axis=1)\n",
    "data_0.head()"
   ]
  },
  {
   "cell_type": "markdown",
   "metadata": {},
   "source": [
    "идентификаторы месторождений роли не играют, поэтому удалю их\n"
   ]
  },
  {
   "cell_type": "markdown",
   "metadata": {},
   "source": [
    "# 2. Обучение и проверка модели"
   ]
  },
  {
   "cell_type": "code",
   "execution_count": 3,
   "metadata": {},
   "outputs": [
    {
     "name": "stdout",
     "output_type": "stream",
     "text": [
      "37.5794217150813 -- RMSE\n",
      " 92.59256778438038 -- среднее\n",
      "0.893099286775616 -- RMSE\n",
      " 68.728546895446 -- среднее\n",
      "40.02970873393434 -- RMSE\n",
      " 94.96504596800489 -- среднее\n"
     ]
    }
   ],
   "source": [
    "predictions=[]\n",
    "targets = []\n",
    "for data in [data_0, data_1, data_2]:\n",
    "    features, target = data.drop('product', axis=1), data.loc[:, 'product']\n",
    "    features_train, features_valid, target_train, target_valid = train_test_split(features, target, test_size=0.25, random_state=12345)\n",
    "    model = LinearRegression()\n",
    "    model.fit(features_train, target_train)\n",
    "    prediction = pd.Series(model.predict(features_valid))\n",
    "    print(mean_squared_error(target_valid, prediction)**0.5, '-- RMSE\\n', prediction.mean(),'-- среднее')\n",
    "    predictions.append(prediction)\n",
    "    targets.append(target_valid.reset_index(drop=True))"
   ]
  },
  {
   "cell_type": "markdown",
   "metadata": {},
   "source": [
    "вывод: 1 и 3 регионы примерно аналогичны по показателю среднего предсказанного запаса сырья, и эта величина сильно превышает соответствующий показатель второго региона. \n",
    "вместе с тем для 1 и 3 региона корень из среднеквадратической ошибки составляет весьма заметную часть от среднего показателя добычи, тогда как в регионе 2 предсказания моделей отличаются высокой четкостью.\n",
    "закономерный итог -- регионы 1 и 3 могут быть более прибыльными, но и более рискованными для инвестиций, тогда как вложения в регион 2 должны окупиться в меньшем размере, но с почти единичной вероятностью вложенные средства отобьются"
   ]
  },
  {
   "cell_type": "markdown",
   "metadata": {},
   "source": [
    "# 3. Подготовка к расчёту прибыли"
   ]
  },
  {
   "cell_type": "code",
   "execution_count": 4,
   "metadata": {},
   "outputs": [
    {
     "name": "stdout",
     "output_type": "stream",
     "text": [
      "Для региона 1, величина объема нефти среднего месторождения не превышает объем, требуемый для безубыточности месторождения\n",
      "Для региона 2, величина объема нефти среднего месторождения не превышает объем, требуемый для безубыточности месторождения\n",
      "Для региона 3, величина объема нефти среднего месторождения не превышает объем, требуемый для безубыточности месторождения\n"
     ]
    }
   ],
   "source": [
    "BUDGET = 10000000000\n",
    "UNIT_INC = 450000\n",
    "BEST = 200\n",
    "THRESHOLD = BUDGET/(BEST*UNIT_INC)\n",
    "THRESHOLD\n",
    "i=0\n",
    "for target in targets:\n",
    "    i+=1\n",
    "    if target.mean()>THRESHOLD:\n",
    "        print('Для региона {}, величина объема нефти среднего месторождения превышает объем, требуемый для безубыточности месторождения'.format(i))\n",
    "    else:\n",
    "        print('Для региона {}, величина объема нефти среднего месторождения не превышает объем, требуемый для безубыточности месторождения'.format(i))\n",
    "    "
   ]
  },
  {
   "cell_type": "markdown",
   "metadata": {},
   "source": [
    "средняя прибыль 200 лучших месторождений региона должна превышать выведенное выше значение или равняться ему\n",
    "\n",
    "\n",
    "### сравнение объемов со средней величиной:\n",
    "видно, что средние показатели для каждого из регионов, увы, не позволяют сделать оптимистичных выводов. К счастью, средняя величина вообще позволяет делать какие то выводы лишь для очень небольшого числа ситуаций, поэтому правильным решением будет продолжить анализ"
   ]
  },
  {
   "cell_type": "markdown",
   "metadata": {},
   "source": [
    "# 4. Создание функции для оценки прибыли"
   ]
  },
  {
   "cell_type": "code",
   "execution_count": 5,
   "metadata": {},
   "outputs": [
    {
     "data": {
      "text/plain": [
       "3320826043.1398544"
      ]
     },
     "execution_count": 5,
     "metadata": {},
     "output_type": "execute_result"
    }
   ],
   "source": [
    "def get_revenue(target, prediction):    \n",
    "    top = target[prediction.sort_values(ascending=False).index][:200]\n",
    "    total_units = sum(top)\n",
    "    revenue = total_units*UNIT_INC-BUDGET\n",
    "    return revenue\n",
    "get_revenue(targets[0], predictions[0])"
   ]
  },
  {
   "cell_type": "markdown",
   "metadata": {},
   "source": [
    "Функция рассчтитывает <b>фактическую</b> прибыль, полученную в результате эксплуатации 200 вышек, которые, согласно построенной модели, должны показать лучшипе результаты."
   ]
  },
  {
   "cell_type": "markdown",
   "metadata": {},
   "source": [
    "# 5. Вычисление прибыли и рисков для каждого региона"
   ]
  },
  {
   "cell_type": "code",
   "execution_count": 9,
   "metadata": {},
   "outputs": [
    {
     "name": "stdout",
     "output_type": "stream",
     "text": [
      "425938526.910593 среднее для 1 региона\n",
      "Доверительный интервал:\n",
      "-102090094.83793645 -- low 947976353.358369 -- high\n",
      "6.0% -- шанс убытков\n",
      "\n",
      "518259493.6973477 среднее для 2 региона\n",
      "Доверительный интервал:\n",
      "128123231.43310332 -- low 953612982.0669408 -- high\n",
      "0.3% -- шанс убытков\n",
      "\n",
      "420194005.3440505 среднее для 3 региона\n",
      "Доверительный интервал:\n",
      "-115852609.1600059 -- low 989629939.8445683 -- high\n",
      "6.2% -- шанс убытков\n",
      "\n"
     ]
    }
   ],
   "source": [
    "import numpy as np\n",
    "\n",
    "revenues = []\n",
    "state = np.random.RandomState(12345)\n",
    "for i in range(3):\n",
    "    rev = []\n",
    "    for j in range(1000):\n",
    "        pred_sample = predictions[i].sample(n=500, replace=True, random_state=state)\n",
    "        target_sample = targets[i][pred_sample.index]\n",
    "        rev.append(get_revenue(target_sample, pred_sample))\n",
    "    rev = pd.Series(rev)\n",
    "    print(rev.mean(),'среднее для {} региона'.format(i+1))\n",
    "    print('Доверительный интервал:')\n",
    "    print(rev.quantile(.025),'-- low', rev.quantile(.975),'-- high')\n",
    "    print(str(rev[rev<0].count()/len(rev)*100)+'% -- шанс убытков\\n')\n",
    "    revenues.append(rev)"
   ]
  },
  {
   "cell_type": "markdown",
   "metadata": {},
   "source": [
    "#### Итог: \n",
    "Для разработки скважин я бы порекомендовал регион №3, тк средняя прибыль там выше. Месторождения №1 и №3 совсем не  перспективны, ведь шанс убытков для каждого региона меньше весьма высоки (допустимый уровень -- 2,5%)."
   ]
  }
 ],
 "metadata": {
  "kernelspec": {
   "display_name": "Python 3",
   "language": "python",
   "name": "python3"
  },
  "language_info": {
   "codemirror_mode": {
    "name": "ipython",
    "version": 3
   },
   "file_extension": ".py",
   "mimetype": "text/x-python",
   "name": "python",
   "nbconvert_exporter": "python",
   "pygments_lexer": "ipython3",
   "version": "3.7.6"
  }
 },
 "nbformat": 4,
 "nbformat_minor": 2
}
