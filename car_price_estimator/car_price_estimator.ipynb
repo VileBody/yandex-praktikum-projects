{
 "cells": [
  {
   "cell_type": "markdown",
   "metadata": {},
   "source": [
    "# 1. Подготовка данных"
   ]
  },
  {
   "cell_type": "markdown",
   "metadata": {},
   "source": [
    "## 1.1 Анализ входных данных"
   ]
  },
  {
   "cell_type": "code",
   "execution_count": 5,
   "metadata": {},
   "outputs": [
    {
     "name": "stdout",
     "output_type": "stream",
     "text": [
      "<class 'pandas.core.frame.DataFrame'>\n",
      "RangeIndex: 354369 entries, 0 to 354368\n",
      "Data columns (total 16 columns):\n",
      "DateCrawled          354369 non-null object\n",
      "Price                354369 non-null int64\n",
      "VehicleType          316879 non-null object\n",
      "RegistrationYear     354369 non-null int64\n",
      "Gearbox              334536 non-null object\n",
      "Power                354369 non-null int64\n",
      "Model                334664 non-null object\n",
      "Kilometer            354369 non-null int64\n",
      "RegistrationMonth    354369 non-null int64\n",
      "FuelType             321474 non-null object\n",
      "Brand                354369 non-null object\n",
      "NotRepaired          283215 non-null object\n",
      "DateCreated          354369 non-null object\n",
      "NumberOfPictures     354369 non-null int64\n",
      "PostalCode           354369 non-null int64\n",
      "LastSeen             354369 non-null object\n",
      "dtypes: int64(7), object(9)\n",
      "memory usage: 43.3+ MB\n",
      "None\n",
      "               Price  RegistrationYear          Power      Kilometer  \\\n",
      "count  354369.000000     354369.000000  354369.000000  354369.000000   \n",
      "mean     4416.656776       2004.234448     110.094337  128211.172535   \n",
      "std      4514.158514         90.227958     189.850405   37905.341530   \n",
      "min         0.000000       1000.000000       0.000000    5000.000000   \n",
      "25%      1050.000000       1999.000000      69.000000  125000.000000   \n",
      "50%      2700.000000       2003.000000     105.000000  150000.000000   \n",
      "75%      6400.000000       2008.000000     143.000000  150000.000000   \n",
      "max     20000.000000       9999.000000   20000.000000  150000.000000   \n",
      "\n",
      "       RegistrationMonth  NumberOfPictures     PostalCode  \n",
      "count      354369.000000          354369.0  354369.000000  \n",
      "mean            5.714645               0.0   50508.689087  \n",
      "std             3.726421               0.0   25783.096248  \n",
      "min             0.000000               0.0    1067.000000  \n",
      "25%             3.000000               0.0   30165.000000  \n",
      "50%             6.000000               0.0   49413.000000  \n",
      "75%             9.000000               0.0   71083.000000  \n",
      "max            12.000000               0.0   99998.000000  \n"
     ]
    },
    {
     "data": {
      "text/html": [
       "<div>\n",
       "<style scoped>\n",
       "    .dataframe tbody tr th:only-of-type {\n",
       "        vertical-align: middle;\n",
       "    }\n",
       "\n",
       "    .dataframe tbody tr th {\n",
       "        vertical-align: top;\n",
       "    }\n",
       "\n",
       "    .dataframe thead th {\n",
       "        text-align: right;\n",
       "    }\n",
       "</style>\n",
       "<table border=\"1\" class=\"dataframe\">\n",
       "  <thead>\n",
       "    <tr style=\"text-align: right;\">\n",
       "      <th></th>\n",
       "      <th>DateCrawled</th>\n",
       "      <th>Price</th>\n",
       "      <th>VehicleType</th>\n",
       "      <th>RegistrationYear</th>\n",
       "      <th>Gearbox</th>\n",
       "      <th>Power</th>\n",
       "      <th>Model</th>\n",
       "      <th>Kilometer</th>\n",
       "      <th>RegistrationMonth</th>\n",
       "      <th>FuelType</th>\n",
       "      <th>Brand</th>\n",
       "      <th>NotRepaired</th>\n",
       "      <th>DateCreated</th>\n",
       "      <th>NumberOfPictures</th>\n",
       "      <th>PostalCode</th>\n",
       "      <th>LastSeen</th>\n",
       "    </tr>\n",
       "  </thead>\n",
       "  <tbody>\n",
       "    <tr>\n",
       "      <td>0</td>\n",
       "      <td>2016-03-24 11:52:17</td>\n",
       "      <td>480</td>\n",
       "      <td>NaN</td>\n",
       "      <td>1993</td>\n",
       "      <td>manual</td>\n",
       "      <td>0</td>\n",
       "      <td>golf</td>\n",
       "      <td>150000</td>\n",
       "      <td>0</td>\n",
       "      <td>petrol</td>\n",
       "      <td>volkswagen</td>\n",
       "      <td>NaN</td>\n",
       "      <td>2016-03-24 00:00:00</td>\n",
       "      <td>0</td>\n",
       "      <td>70435</td>\n",
       "      <td>2016-04-07 03:16:57</td>\n",
       "    </tr>\n",
       "    <tr>\n",
       "      <td>1</td>\n",
       "      <td>2016-03-24 10:58:45</td>\n",
       "      <td>18300</td>\n",
       "      <td>coupe</td>\n",
       "      <td>2011</td>\n",
       "      <td>manual</td>\n",
       "      <td>190</td>\n",
       "      <td>NaN</td>\n",
       "      <td>125000</td>\n",
       "      <td>5</td>\n",
       "      <td>gasoline</td>\n",
       "      <td>audi</td>\n",
       "      <td>yes</td>\n",
       "      <td>2016-03-24 00:00:00</td>\n",
       "      <td>0</td>\n",
       "      <td>66954</td>\n",
       "      <td>2016-04-07 01:46:50</td>\n",
       "    </tr>\n",
       "    <tr>\n",
       "      <td>2</td>\n",
       "      <td>2016-03-14 12:52:21</td>\n",
       "      <td>9800</td>\n",
       "      <td>suv</td>\n",
       "      <td>2004</td>\n",
       "      <td>auto</td>\n",
       "      <td>163</td>\n",
       "      <td>grand</td>\n",
       "      <td>125000</td>\n",
       "      <td>8</td>\n",
       "      <td>gasoline</td>\n",
       "      <td>jeep</td>\n",
       "      <td>NaN</td>\n",
       "      <td>2016-03-14 00:00:00</td>\n",
       "      <td>0</td>\n",
       "      <td>90480</td>\n",
       "      <td>2016-04-05 12:47:46</td>\n",
       "    </tr>\n",
       "    <tr>\n",
       "      <td>3</td>\n",
       "      <td>2016-03-17 16:54:04</td>\n",
       "      <td>1500</td>\n",
       "      <td>small</td>\n",
       "      <td>2001</td>\n",
       "      <td>manual</td>\n",
       "      <td>75</td>\n",
       "      <td>golf</td>\n",
       "      <td>150000</td>\n",
       "      <td>6</td>\n",
       "      <td>petrol</td>\n",
       "      <td>volkswagen</td>\n",
       "      <td>no</td>\n",
       "      <td>2016-03-17 00:00:00</td>\n",
       "      <td>0</td>\n",
       "      <td>91074</td>\n",
       "      <td>2016-03-17 17:40:17</td>\n",
       "    </tr>\n",
       "    <tr>\n",
       "      <td>4</td>\n",
       "      <td>2016-03-31 17:25:20</td>\n",
       "      <td>3600</td>\n",
       "      <td>small</td>\n",
       "      <td>2008</td>\n",
       "      <td>manual</td>\n",
       "      <td>69</td>\n",
       "      <td>fabia</td>\n",
       "      <td>90000</td>\n",
       "      <td>7</td>\n",
       "      <td>gasoline</td>\n",
       "      <td>skoda</td>\n",
       "      <td>no</td>\n",
       "      <td>2016-03-31 00:00:00</td>\n",
       "      <td>0</td>\n",
       "      <td>60437</td>\n",
       "      <td>2016-04-06 10:17:21</td>\n",
       "    </tr>\n",
       "    <tr>\n",
       "      <td>...</td>\n",
       "      <td>...</td>\n",
       "      <td>...</td>\n",
       "      <td>...</td>\n",
       "      <td>...</td>\n",
       "      <td>...</td>\n",
       "      <td>...</td>\n",
       "      <td>...</td>\n",
       "      <td>...</td>\n",
       "      <td>...</td>\n",
       "      <td>...</td>\n",
       "      <td>...</td>\n",
       "      <td>...</td>\n",
       "      <td>...</td>\n",
       "      <td>...</td>\n",
       "      <td>...</td>\n",
       "      <td>...</td>\n",
       "    </tr>\n",
       "    <tr>\n",
       "      <td>354364</td>\n",
       "      <td>2016-03-21 09:50:58</td>\n",
       "      <td>0</td>\n",
       "      <td>NaN</td>\n",
       "      <td>2005</td>\n",
       "      <td>manual</td>\n",
       "      <td>0</td>\n",
       "      <td>colt</td>\n",
       "      <td>150000</td>\n",
       "      <td>7</td>\n",
       "      <td>petrol</td>\n",
       "      <td>mitsubishi</td>\n",
       "      <td>yes</td>\n",
       "      <td>2016-03-21 00:00:00</td>\n",
       "      <td>0</td>\n",
       "      <td>2694</td>\n",
       "      <td>2016-03-21 10:42:49</td>\n",
       "    </tr>\n",
       "    <tr>\n",
       "      <td>354365</td>\n",
       "      <td>2016-03-14 17:48:27</td>\n",
       "      <td>2200</td>\n",
       "      <td>NaN</td>\n",
       "      <td>2005</td>\n",
       "      <td>NaN</td>\n",
       "      <td>0</td>\n",
       "      <td>NaN</td>\n",
       "      <td>20000</td>\n",
       "      <td>1</td>\n",
       "      <td>NaN</td>\n",
       "      <td>sonstige_autos</td>\n",
       "      <td>NaN</td>\n",
       "      <td>2016-03-14 00:00:00</td>\n",
       "      <td>0</td>\n",
       "      <td>39576</td>\n",
       "      <td>2016-04-06 00:46:52</td>\n",
       "    </tr>\n",
       "    <tr>\n",
       "      <td>354366</td>\n",
       "      <td>2016-03-05 19:56:21</td>\n",
       "      <td>1199</td>\n",
       "      <td>convertible</td>\n",
       "      <td>2000</td>\n",
       "      <td>auto</td>\n",
       "      <td>101</td>\n",
       "      <td>fortwo</td>\n",
       "      <td>125000</td>\n",
       "      <td>3</td>\n",
       "      <td>petrol</td>\n",
       "      <td>smart</td>\n",
       "      <td>no</td>\n",
       "      <td>2016-03-05 00:00:00</td>\n",
       "      <td>0</td>\n",
       "      <td>26135</td>\n",
       "      <td>2016-03-11 18:17:12</td>\n",
       "    </tr>\n",
       "    <tr>\n",
       "      <td>354367</td>\n",
       "      <td>2016-03-19 18:57:12</td>\n",
       "      <td>9200</td>\n",
       "      <td>bus</td>\n",
       "      <td>1996</td>\n",
       "      <td>manual</td>\n",
       "      <td>102</td>\n",
       "      <td>transporter</td>\n",
       "      <td>150000</td>\n",
       "      <td>3</td>\n",
       "      <td>gasoline</td>\n",
       "      <td>volkswagen</td>\n",
       "      <td>no</td>\n",
       "      <td>2016-03-19 00:00:00</td>\n",
       "      <td>0</td>\n",
       "      <td>87439</td>\n",
       "      <td>2016-04-07 07:15:26</td>\n",
       "    </tr>\n",
       "    <tr>\n",
       "      <td>354368</td>\n",
       "      <td>2016-03-20 19:41:08</td>\n",
       "      <td>3400</td>\n",
       "      <td>wagon</td>\n",
       "      <td>2002</td>\n",
       "      <td>manual</td>\n",
       "      <td>100</td>\n",
       "      <td>golf</td>\n",
       "      <td>150000</td>\n",
       "      <td>6</td>\n",
       "      <td>gasoline</td>\n",
       "      <td>volkswagen</td>\n",
       "      <td>NaN</td>\n",
       "      <td>2016-03-20 00:00:00</td>\n",
       "      <td>0</td>\n",
       "      <td>40764</td>\n",
       "      <td>2016-03-24 12:45:21</td>\n",
       "    </tr>\n",
       "  </tbody>\n",
       "</table>\n",
       "<p>354369 rows × 16 columns</p>\n",
       "</div>"
      ],
      "text/plain": [
       "                DateCrawled  Price  VehicleType  RegistrationYear Gearbox  \\\n",
       "0       2016-03-24 11:52:17    480          NaN              1993  manual   \n",
       "1       2016-03-24 10:58:45  18300        coupe              2011  manual   \n",
       "2       2016-03-14 12:52:21   9800          suv              2004    auto   \n",
       "3       2016-03-17 16:54:04   1500        small              2001  manual   \n",
       "4       2016-03-31 17:25:20   3600        small              2008  manual   \n",
       "...                     ...    ...          ...               ...     ...   \n",
       "354364  2016-03-21 09:50:58      0          NaN              2005  manual   \n",
       "354365  2016-03-14 17:48:27   2200          NaN              2005     NaN   \n",
       "354366  2016-03-05 19:56:21   1199  convertible              2000    auto   \n",
       "354367  2016-03-19 18:57:12   9200          bus              1996  manual   \n",
       "354368  2016-03-20 19:41:08   3400        wagon              2002  manual   \n",
       "\n",
       "        Power        Model  Kilometer  RegistrationMonth  FuelType  \\\n",
       "0           0         golf     150000                  0    petrol   \n",
       "1         190          NaN     125000                  5  gasoline   \n",
       "2         163        grand     125000                  8  gasoline   \n",
       "3          75         golf     150000                  6    petrol   \n",
       "4          69        fabia      90000                  7  gasoline   \n",
       "...       ...          ...        ...                ...       ...   \n",
       "354364      0         colt     150000                  7    petrol   \n",
       "354365      0          NaN      20000                  1       NaN   \n",
       "354366    101       fortwo     125000                  3    petrol   \n",
       "354367    102  transporter     150000                  3  gasoline   \n",
       "354368    100         golf     150000                  6  gasoline   \n",
       "\n",
       "                 Brand NotRepaired          DateCreated  NumberOfPictures  \\\n",
       "0           volkswagen         NaN  2016-03-24 00:00:00                 0   \n",
       "1                 audi         yes  2016-03-24 00:00:00                 0   \n",
       "2                 jeep         NaN  2016-03-14 00:00:00                 0   \n",
       "3           volkswagen          no  2016-03-17 00:00:00                 0   \n",
       "4                skoda          no  2016-03-31 00:00:00                 0   \n",
       "...                ...         ...                  ...               ...   \n",
       "354364      mitsubishi         yes  2016-03-21 00:00:00                 0   \n",
       "354365  sonstige_autos         NaN  2016-03-14 00:00:00                 0   \n",
       "354366           smart          no  2016-03-05 00:00:00                 0   \n",
       "354367      volkswagen          no  2016-03-19 00:00:00                 0   \n",
       "354368      volkswagen         NaN  2016-03-20 00:00:00                 0   \n",
       "\n",
       "        PostalCode             LastSeen  \n",
       "0            70435  2016-04-07 03:16:57  \n",
       "1            66954  2016-04-07 01:46:50  \n",
       "2            90480  2016-04-05 12:47:46  \n",
       "3            91074  2016-03-17 17:40:17  \n",
       "4            60437  2016-04-06 10:17:21  \n",
       "...            ...                  ...  \n",
       "354364        2694  2016-03-21 10:42:49  \n",
       "354365       39576  2016-04-06 00:46:52  \n",
       "354366       26135  2016-03-11 18:17:12  \n",
       "354367       87439  2016-04-07 07:15:26  \n",
       "354368       40764  2016-03-24 12:45:21  \n",
       "\n",
       "[354369 rows x 16 columns]"
      ]
     },
     "execution_count": 5,
     "metadata": {},
     "output_type": "execute_result"
    }
   ],
   "source": [
    "import pandas as pd\n",
    "from sklearn.model_selection import train_test_split\n",
    "data = pd.read_csv('/datasets/autos.csv')\n",
    "print(data.info())\n",
    "print(data.describe())\n",
    "data"
   ]
  },
  {
   "cell_type": "markdown",
   "metadata": {},
   "source": [
    "Нужно изменить тип у столбцов:DateCreated, NotRepaired. \n",
    "\n",
    "Удалить столбцы: DateCrawled, LastSeen, PostalCode, NumberOfPictures, RegistrationMonth. \n",
    "\n",
    "В столбце NotRepaired заменю Nan на 0.\n",
    "Во всех категориальных столбцах Nan заменю на not_specified, удалю строки, в которых слишком много (это число определю) пропущенных значений.\n",
    "\n",
    "DateCreated нужно разделить на 2: год и месяц."
   ]
  },
  {
   "cell_type": "markdown",
   "metadata": {},
   "source": [
    "## 1.2 Выполнение задач из предыдущего пункта."
   ]
  },
  {
   "cell_type": "markdown",
   "metadata": {},
   "source": [
    "### UPDATE эта ячейка появилась после анализа features_importance"
   ]
  },
  {
   "cell_type": "code",
   "execution_count": 6,
   "metadata": {},
   "outputs": [
    {
     "name": "stdout",
     "output_type": "stream",
     "text": [
      "0        14 days 03:16:57\n",
      "1        14 days 01:46:50\n",
      "2        22 days 12:47:46\n",
      "3         0 days 17:40:17\n",
      "4         6 days 10:17:21\n",
      "               ...       \n",
      "354364    0 days 10:42:49\n",
      "354365   23 days 00:46:52\n",
      "354366    6 days 18:17:12\n",
      "354367   19 days 07:15:26\n",
      "354368    4 days 12:45:21\n",
      "Name: activities, Length: 354369, dtype: timedelta64[ns]\n"
     ]
    },
    {
     "name": "stderr",
     "output_type": "stream",
     "text": [
      "/opt/conda/lib/python3.7/site-packages/ipykernel_launcher.py:5: FutureWarning: Passing timedelta64-dtype data is deprecated, will raise a TypeError in a future version\n",
      "  \"\"\"\n"
     ]
    },
    {
     "data": {
      "text/plain": [
       "0         15\n",
       "1         15\n",
       "2         23\n",
       "3          1\n",
       "4          7\n",
       "          ..\n",
       "354364     1\n",
       "354365    24\n",
       "354366     7\n",
       "354367    20\n",
       "354368     5\n",
       "Name: activities, Length: 354369, dtype: int64"
      ]
     },
     "execution_count": 6,
     "metadata": {},
     "output_type": "execute_result"
    }
   ],
   "source": [
    "data['DateCreated'] = pd.to_datetime(data['DateCreated'])\n",
    "data['LastSeen'] = pd.to_datetime(data['LastSeen'])\n",
    "data['activities'] = data['LastSeen'] - data['DateCreated']\n",
    "print(data['activities'])\n",
    "data['activities'] = pd.to_datetime(data['activities']).dt.day + (pd.to_datetime(data['activities']).dt.month-1)*30 #видимо были нулевые дни, из за этого \n",
    "data['activities']# 0-й элемент, который был 14 дней стал 15-м, но думаю это не так важно"
   ]
  },
  {
   "cell_type": "code",
   "execution_count": 7,
   "metadata": {
    "scrolled": true
   },
   "outputs": [
    {
     "data": {
      "text/html": [
       "<div>\n",
       "<style scoped>\n",
       "    .dataframe tbody tr th:only-of-type {\n",
       "        vertical-align: middle;\n",
       "    }\n",
       "\n",
       "    .dataframe tbody tr th {\n",
       "        vertical-align: top;\n",
       "    }\n",
       "\n",
       "    .dataframe thead th {\n",
       "        text-align: right;\n",
       "    }\n",
       "</style>\n",
       "<table border=\"1\" class=\"dataframe\">\n",
       "  <thead>\n",
       "    <tr style=\"text-align: right;\">\n",
       "      <th></th>\n",
       "      <th>Price</th>\n",
       "      <th>VehicleType</th>\n",
       "      <th>RegistrationYear</th>\n",
       "      <th>Gearbox</th>\n",
       "      <th>Power</th>\n",
       "      <th>Model</th>\n",
       "      <th>Kilometer</th>\n",
       "      <th>RegistrationMonth</th>\n",
       "      <th>FuelType</th>\n",
       "      <th>Brand</th>\n",
       "      <th>NotRepaired</th>\n",
       "      <th>activities</th>\n",
       "      <th>Year_created</th>\n",
       "      <th>Month_created</th>\n",
       "    </tr>\n",
       "  </thead>\n",
       "  <tbody>\n",
       "    <tr>\n",
       "      <td>0</td>\n",
       "      <td>480</td>\n",
       "      <td>NaN</td>\n",
       "      <td>1993</td>\n",
       "      <td>manual</td>\n",
       "      <td>0</td>\n",
       "      <td>golf</td>\n",
       "      <td>150000</td>\n",
       "      <td>0</td>\n",
       "      <td>petrol</td>\n",
       "      <td>volkswagen</td>\n",
       "      <td>True</td>\n",
       "      <td>15</td>\n",
       "      <td>2016</td>\n",
       "      <td>3</td>\n",
       "    </tr>\n",
       "    <tr>\n",
       "      <td>1</td>\n",
       "      <td>18300</td>\n",
       "      <td>coupe</td>\n",
       "      <td>2011</td>\n",
       "      <td>manual</td>\n",
       "      <td>190</td>\n",
       "      <td>NaN</td>\n",
       "      <td>125000</td>\n",
       "      <td>5</td>\n",
       "      <td>gasoline</td>\n",
       "      <td>audi</td>\n",
       "      <td>True</td>\n",
       "      <td>15</td>\n",
       "      <td>2016</td>\n",
       "      <td>3</td>\n",
       "    </tr>\n",
       "    <tr>\n",
       "      <td>2</td>\n",
       "      <td>9800</td>\n",
       "      <td>suv</td>\n",
       "      <td>2004</td>\n",
       "      <td>auto</td>\n",
       "      <td>163</td>\n",
       "      <td>grand</td>\n",
       "      <td>125000</td>\n",
       "      <td>8</td>\n",
       "      <td>gasoline</td>\n",
       "      <td>jeep</td>\n",
       "      <td>True</td>\n",
       "      <td>23</td>\n",
       "      <td>2016</td>\n",
       "      <td>3</td>\n",
       "    </tr>\n",
       "    <tr>\n",
       "      <td>3</td>\n",
       "      <td>1500</td>\n",
       "      <td>small</td>\n",
       "      <td>2001</td>\n",
       "      <td>manual</td>\n",
       "      <td>75</td>\n",
       "      <td>golf</td>\n",
       "      <td>150000</td>\n",
       "      <td>6</td>\n",
       "      <td>petrol</td>\n",
       "      <td>volkswagen</td>\n",
       "      <td>False</td>\n",
       "      <td>1</td>\n",
       "      <td>2016</td>\n",
       "      <td>3</td>\n",
       "    </tr>\n",
       "    <tr>\n",
       "      <td>4</td>\n",
       "      <td>3600</td>\n",
       "      <td>small</td>\n",
       "      <td>2008</td>\n",
       "      <td>manual</td>\n",
       "      <td>69</td>\n",
       "      <td>fabia</td>\n",
       "      <td>90000</td>\n",
       "      <td>7</td>\n",
       "      <td>gasoline</td>\n",
       "      <td>skoda</td>\n",
       "      <td>False</td>\n",
       "      <td>7</td>\n",
       "      <td>2016</td>\n",
       "      <td>3</td>\n",
       "    </tr>\n",
       "    <tr>\n",
       "      <td>...</td>\n",
       "      <td>...</td>\n",
       "      <td>...</td>\n",
       "      <td>...</td>\n",
       "      <td>...</td>\n",
       "      <td>...</td>\n",
       "      <td>...</td>\n",
       "      <td>...</td>\n",
       "      <td>...</td>\n",
       "      <td>...</td>\n",
       "      <td>...</td>\n",
       "      <td>...</td>\n",
       "      <td>...</td>\n",
       "      <td>...</td>\n",
       "      <td>...</td>\n",
       "    </tr>\n",
       "    <tr>\n",
       "      <td>354364</td>\n",
       "      <td>0</td>\n",
       "      <td>NaN</td>\n",
       "      <td>2005</td>\n",
       "      <td>manual</td>\n",
       "      <td>0</td>\n",
       "      <td>colt</td>\n",
       "      <td>150000</td>\n",
       "      <td>7</td>\n",
       "      <td>petrol</td>\n",
       "      <td>mitsubishi</td>\n",
       "      <td>True</td>\n",
       "      <td>1</td>\n",
       "      <td>2016</td>\n",
       "      <td>3</td>\n",
       "    </tr>\n",
       "    <tr>\n",
       "      <td>354365</td>\n",
       "      <td>2200</td>\n",
       "      <td>NaN</td>\n",
       "      <td>2005</td>\n",
       "      <td>NaN</td>\n",
       "      <td>0</td>\n",
       "      <td>NaN</td>\n",
       "      <td>20000</td>\n",
       "      <td>1</td>\n",
       "      <td>NaN</td>\n",
       "      <td>sonstige_autos</td>\n",
       "      <td>True</td>\n",
       "      <td>24</td>\n",
       "      <td>2016</td>\n",
       "      <td>3</td>\n",
       "    </tr>\n",
       "    <tr>\n",
       "      <td>354366</td>\n",
       "      <td>1199</td>\n",
       "      <td>convertible</td>\n",
       "      <td>2000</td>\n",
       "      <td>auto</td>\n",
       "      <td>101</td>\n",
       "      <td>fortwo</td>\n",
       "      <td>125000</td>\n",
       "      <td>3</td>\n",
       "      <td>petrol</td>\n",
       "      <td>smart</td>\n",
       "      <td>False</td>\n",
       "      <td>7</td>\n",
       "      <td>2016</td>\n",
       "      <td>3</td>\n",
       "    </tr>\n",
       "    <tr>\n",
       "      <td>354367</td>\n",
       "      <td>9200</td>\n",
       "      <td>bus</td>\n",
       "      <td>1996</td>\n",
       "      <td>manual</td>\n",
       "      <td>102</td>\n",
       "      <td>transporter</td>\n",
       "      <td>150000</td>\n",
       "      <td>3</td>\n",
       "      <td>gasoline</td>\n",
       "      <td>volkswagen</td>\n",
       "      <td>False</td>\n",
       "      <td>20</td>\n",
       "      <td>2016</td>\n",
       "      <td>3</td>\n",
       "    </tr>\n",
       "    <tr>\n",
       "      <td>354368</td>\n",
       "      <td>3400</td>\n",
       "      <td>wagon</td>\n",
       "      <td>2002</td>\n",
       "      <td>manual</td>\n",
       "      <td>100</td>\n",
       "      <td>golf</td>\n",
       "      <td>150000</td>\n",
       "      <td>6</td>\n",
       "      <td>gasoline</td>\n",
       "      <td>volkswagen</td>\n",
       "      <td>True</td>\n",
       "      <td>5</td>\n",
       "      <td>2016</td>\n",
       "      <td>3</td>\n",
       "    </tr>\n",
       "  </tbody>\n",
       "</table>\n",
       "<p>342357 rows × 14 columns</p>\n",
       "</div>"
      ],
      "text/plain": [
       "        Price  VehicleType  RegistrationYear Gearbox  Power        Model  \\\n",
       "0         480          NaN              1993  manual      0         golf   \n",
       "1       18300        coupe              2011  manual    190          NaN   \n",
       "2        9800          suv              2004    auto    163        grand   \n",
       "3        1500        small              2001  manual     75         golf   \n",
       "4        3600        small              2008  manual     69        fabia   \n",
       "...       ...          ...               ...     ...    ...          ...   \n",
       "354364      0          NaN              2005  manual      0         colt   \n",
       "354365   2200          NaN              2005     NaN      0          NaN   \n",
       "354366   1199  convertible              2000    auto    101       fortwo   \n",
       "354367   9200          bus              1996  manual    102  transporter   \n",
       "354368   3400        wagon              2002  manual    100         golf   \n",
       "\n",
       "        Kilometer  RegistrationMonth  FuelType           Brand  NotRepaired  \\\n",
       "0          150000                  0    petrol      volkswagen         True   \n",
       "1          125000                  5  gasoline            audi         True   \n",
       "2          125000                  8  gasoline            jeep         True   \n",
       "3          150000                  6    petrol      volkswagen        False   \n",
       "4           90000                  7  gasoline           skoda        False   \n",
       "...           ...                ...       ...             ...          ...   \n",
       "354364     150000                  7    petrol      mitsubishi         True   \n",
       "354365      20000                  1       NaN  sonstige_autos         True   \n",
       "354366     125000                  3    petrol           smart        False   \n",
       "354367     150000                  3  gasoline      volkswagen        False   \n",
       "354368     150000                  6  gasoline      volkswagen         True   \n",
       "\n",
       "        activities  Year_created  Month_created  \n",
       "0               15          2016              3  \n",
       "1               15          2016              3  \n",
       "2               23          2016              3  \n",
       "3                1          2016              3  \n",
       "4                7          2016              3  \n",
       "...            ...           ...            ...  \n",
       "354364           1          2016              3  \n",
       "354365          24          2016              3  \n",
       "354366           7          2016              3  \n",
       "354367          20          2016              3  \n",
       "354368           5          2016              3  \n",
       "\n",
       "[342357 rows x 14 columns]"
      ]
     },
     "execution_count": 7,
     "metadata": {},
     "output_type": "execute_result"
    }
   ],
   "source": [
    "data = data.drop(['DateCrawled', 'LastSeen'], axis=1)\n",
    "data['DateCreated'] = pd.to_datetime(data['DateCreated'])\n",
    "data['Year_created'], data['Month_created'] = data['DateCreated'].dt.year.astype('int64'), data['DateCreated'].dt.month.astype('int64')\n",
    "data = data.drop('DateCreated', axis=1)\n",
    "data['NotRepaired'] = data['NotRepaired'].map({'yes':1, 'no':0})\n",
    "data['NotRepaired'] = data['NotRepaired'].fillna(1).astype('bool')\n",
    "data = data.drop(['NumberOfPictures', 'PostalCode'], axis=1)\n",
    "categorical_columns = ['VehicleType', 'Gearbox', 'Model', 'FuelType', 'Brand', 'NotRepaired']\n",
    "data = data.drop_duplicates()\n",
    "data"
   ]
  },
  {
   "cell_type": "markdown",
   "metadata": {},
   "source": [
    "### <span style=\"color:red\">Насчет года: Year_created не вносил никакого вклада в обучение, поэтому я его удалил (ниже). Удаление Month_created несколько ухудшало качество прогнозирования. </span>\n",
    "    \n",
    "Вообще на данном этапе я отбирал признаки для обучения скорее руководствуясь здравым смыслом. Вполне логичным казалось, что более старые предложения должны со быть более дешевыми.\n",
    "\n",
    "Конечно, в некотором смысле время продажи автомобиля может отождествляться с признаком activities: если промежуток между датой регистрации и датой последней активности велик -- очевидно, машина продается не очень хорошо и логично ожидать более низкой цены. Но это работает не всегда. Вполне адекватен следующий вариант: продавец создал объявление, за условные три месяца предложений не поступило, он зашел в аккаунт, снизил цену, и условно еще три месяца не заходил. Промежуток activities относительно небольшой, но машина продается долго. \n",
    "    \n",
    "Эта неоднозначность могла бы быть исправлена при взаимодействии с заказчиком, но в данной ситуации я предпочел оставить все как есть, и просто посмотреть что дальше будет. И, возвращаясь к первому абзацу, Month_created вносил небольшой, но все же вполне заметный вклад.\n"
   ]
  },
  {
   "cell_type": "code",
   "execution_count": 8,
   "metadata": {
    "scrolled": false
   },
   "outputs": [
    {
     "data": {
      "text/plain": [
       "<matplotlib.axes._subplots.AxesSubplot at 0x7fa14709ab10>"
      ]
     },
     "execution_count": 8,
     "metadata": {},
     "output_type": "execute_result"
    },
    {
     "data": {
      "image/png": "[encoded data removed]",
      "text/plain": [
       "<Figure size 432x288 with 1 Axes>"
      ]
     },
     "metadata": {
      "needs_background": "light"
     },
     "output_type": "display_data"
    }
   ],
   "source": [
    "import seaborn as sns\n",
    "import matplotlib.pyplot as plt\n",
    "fig, axs = plt.subplots(1)\n",
    "sns.distplot(data[categorical_columns].isna().sum(axis=1), kde=False, bins=6, ax=axs)"
   ]
  },
  {
   "cell_type": "markdown",
   "metadata": {},
   "source": [
    "Удалять ничего не буду, сделаю отдельную категорию not_specified, как уже и говорил."
   ]
  },
  {
   "cell_type": "code",
   "execution_count": 10,
   "metadata": {
    "scrolled": true
   },
   "outputs": [],
   "source": [
    "data[categorical_columns] = data[categorical_columns].fillna('not_specified')"
   ]
  },
  {
   "cell_type": "markdown",
   "metadata": {},
   "source": [
    "### Вывод\n",
    "Могу приступать к дальнейшей работе, пропусков и \"плохих\" данных тут нет."
   ]
  },
  {
   "cell_type": "markdown",
   "metadata": {},
   "source": [
    "# 1.3 Ликвидация выбросов"
   ]
  },
  {
   "cell_type": "code",
   "execution_count": 11,
   "metadata": {},
   "outputs": [
    {
     "name": "stdout",
     "output_type": "stream",
     "text": [
      "max\n",
      "Kilometer            150000\n",
      "Month_created            12\n",
      "Price                 20000\n",
      "Year_created           2016\n",
      "Power                 20000\n",
      "RegistrationYear       9999\n",
      "activities              290\n",
      "RegistrationMonth        12\n",
      "dtype: int64\n",
      "min\n",
      "Kilometer            5000\n",
      "Month_created           1\n",
      "Price                   0\n",
      "Year_created         2014\n",
      "Power                   0\n",
      "RegistrationYear     1000\n",
      "activities              1\n",
      "RegistrationMonth       0\n",
      "dtype: int64\n"
     ]
    }
   ],
   "source": [
    "anomalies_data_check = data[set(data.columns)-set(categorical_columns)]\n",
    "print('max', anomalies_data_check.max(), 'min', anomalies_data_check.min(), sep='\\n')\n",
    "anomalies_data_check = data[(set(data.columns)-set(categorical_columns))-set(['DateCreated','LastSeen', 'DateCrawled'])]"
   ]
  },
  {
   "cell_type": "code",
   "execution_count": 12,
   "metadata": {
    "scrolled": true
   },
   "outputs": [
    {
     "name": "stdout",
     "output_type": "stream",
     "text": [
      "1 : 10297\n",
      "51 : 12237\n",
      "101 : 13814\n",
      "151 : 15985\n",
      "201 : 18850\n",
      "251 : 21537\n",
      "301 : 25186\n",
      "351 : 28111\n",
      "401 : 31662\n",
      "451 : 34006\n",
      "501 : 40747\n"
     ]
    },
    {
     "data": {
      "image/png": "[encoded data removed]",
      "text/plain": [
       "<Figure size 432x288 with 1 Axes>"
      ]
     },
     "metadata": {
      "needs_background": "light"
     },
     "output_type": "display_data"
    }
   ],
   "source": [
    "data['Price'].plot(kind='box')\n",
    "for i in range(1, 502, 50):\n",
    "    print(i, ':', data[data['Price']<i]['Price'].count())"
   ]
  },
  {
   "cell_type": "markdown",
   "metadata": {},
   "source": [
    "В столбцах с типом datetime64 все хорошо, исключу их из рассмотрения. Во всех остальных столбцах есть выбросы, удалю их. В столбцах Price и Power, RegistrationYear воспользуюсь стандартным отклонением. Со столбцом Kilometer ничего делать не буду."
   ]
  },
  {
   "cell_type": "code",
   "execution_count": 13,
   "metadata": {},
   "outputs": [
    {
     "name": "stdout",
     "output_type": "stream",
     "text": [
      "(319846, 14)\n"
     ]
    }
   ],
   "source": [
    "data['Price'] = data[(data['Price']>=300)]['Price']\n",
    "print(data.dropna().shape)"
   ]
  },
  {
   "cell_type": "code",
   "execution_count": 14,
   "metadata": {},
   "outputs": [
    {
     "name": "stdout",
     "output_type": "stream",
     "text": [
      "(285427, 14)\n"
     ]
    }
   ],
   "source": [
    "data['Power'] = data[(data['Power']>=20) & (data['Power']<data['Power'].quantile(0.99))]['Power']\n",
    "print(data.dropna().shape)"
   ]
  },
  {
   "cell_type": "code",
   "execution_count": 15,
   "metadata": {},
   "outputs": [
    {
     "name": "stdout",
     "output_type": "stream",
     "text": [
      "(283399, 14)\n"
     ]
    },
    {
     "data": {
      "text/html": [
       "<div>\n",
       "<style scoped>\n",
       "    .dataframe tbody tr th:only-of-type {\n",
       "        vertical-align: middle;\n",
       "    }\n",
       "\n",
       "    .dataframe tbody tr th {\n",
       "        vertical-align: top;\n",
       "    }\n",
       "\n",
       "    .dataframe thead th {\n",
       "        text-align: right;\n",
       "    }\n",
       "</style>\n",
       "<table border=\"1\" class=\"dataframe\">\n",
       "  <thead>\n",
       "    <tr style=\"text-align: right;\">\n",
       "      <th></th>\n",
       "      <th>Price</th>\n",
       "      <th>RegistrationYear</th>\n",
       "      <th>Power</th>\n",
       "      <th>Kilometer</th>\n",
       "      <th>RegistrationMonth</th>\n",
       "      <th>activities</th>\n",
       "      <th>Year_created</th>\n",
       "      <th>Month_created</th>\n",
       "    </tr>\n",
       "  </thead>\n",
       "  <tbody>\n",
       "    <tr>\n",
       "      <td>count</td>\n",
       "      <td>319846.000000</td>\n",
       "      <td>338837.000000</td>\n",
       "      <td>299736.000000</td>\n",
       "      <td>342357.000000</td>\n",
       "      <td>342357.000000</td>\n",
       "      <td>342357.000000</td>\n",
       "      <td>342357.000000</td>\n",
       "      <td>342357.000000</td>\n",
       "    </tr>\n",
       "    <tr>\n",
       "      <td>mean</td>\n",
       "      <td>4705.341399</td>\n",
       "      <td>2003.398168</td>\n",
       "      <td>117.642919</td>\n",
       "      <td>128239.250256</td>\n",
       "      <td>5.698975</td>\n",
       "      <td>9.774674</td>\n",
       "      <td>2015.999927</td>\n",
       "      <td>3.160707</td>\n",
       "    </tr>\n",
       "    <tr>\n",
       "      <td>std</td>\n",
       "      <td>4517.107866</td>\n",
       "      <td>6.637032</td>\n",
       "      <td>48.397320</td>\n",
       "      <td>37901.612811</td>\n",
       "      <td>3.727167</td>\n",
       "      <td>8.493158</td>\n",
       "      <td>0.008880</td>\n",
       "      <td>0.376397</td>\n",
       "    </tr>\n",
       "    <tr>\n",
       "      <td>min</td>\n",
       "      <td>300.000000</td>\n",
       "      <td>1980.000000</td>\n",
       "      <td>20.000000</td>\n",
       "      <td>5000.000000</td>\n",
       "      <td>0.000000</td>\n",
       "      <td>1.000000</td>\n",
       "      <td>2014.000000</td>\n",
       "      <td>1.000000</td>\n",
       "    </tr>\n",
       "    <tr>\n",
       "      <td>25%</td>\n",
       "      <td>1300.000000</td>\n",
       "      <td>1999.000000</td>\n",
       "      <td>75.000000</td>\n",
       "      <td>125000.000000</td>\n",
       "      <td>3.000000</td>\n",
       "      <td>3.000000</td>\n",
       "      <td>2016.000000</td>\n",
       "      <td>3.000000</td>\n",
       "    </tr>\n",
       "    <tr>\n",
       "      <td>50%</td>\n",
       "      <td>2999.000000</td>\n",
       "      <td>2003.000000</td>\n",
       "      <td>110.000000</td>\n",
       "      <td>150000.000000</td>\n",
       "      <td>6.000000</td>\n",
       "      <td>7.000000</td>\n",
       "      <td>2016.000000</td>\n",
       "      <td>3.000000</td>\n",
       "    </tr>\n",
       "    <tr>\n",
       "      <td>75%</td>\n",
       "      <td>6750.000000</td>\n",
       "      <td>2008.000000</td>\n",
       "      <td>145.000000</td>\n",
       "      <td>150000.000000</td>\n",
       "      <td>9.000000</td>\n",
       "      <td>15.000000</td>\n",
       "      <td>2016.000000</td>\n",
       "      <td>3.000000</td>\n",
       "    </tr>\n",
       "    <tr>\n",
       "      <td>max</td>\n",
       "      <td>20000.000000</td>\n",
       "      <td>2018.000000</td>\n",
       "      <td>299.000000</td>\n",
       "      <td>150000.000000</td>\n",
       "      <td>12.000000</td>\n",
       "      <td>290.000000</td>\n",
       "      <td>2016.000000</td>\n",
       "      <td>12.000000</td>\n",
       "    </tr>\n",
       "  </tbody>\n",
       "</table>\n",
       "</div>"
      ],
      "text/plain": [
       "               Price  RegistrationYear          Power      Kilometer  \\\n",
       "count  319846.000000     338837.000000  299736.000000  342357.000000   \n",
       "mean     4705.341399       2003.398168     117.642919  128239.250256   \n",
       "std      4517.107866          6.637032      48.397320   37901.612811   \n",
       "min       300.000000       1980.000000      20.000000    5000.000000   \n",
       "25%      1300.000000       1999.000000      75.000000  125000.000000   \n",
       "50%      2999.000000       2003.000000     110.000000  150000.000000   \n",
       "75%      6750.000000       2008.000000     145.000000  150000.000000   \n",
       "max     20000.000000       2018.000000     299.000000  150000.000000   \n",
       "\n",
       "       RegistrationMonth     activities   Year_created  Month_created  \n",
       "count      342357.000000  342357.000000  342357.000000  342357.000000  \n",
       "mean            5.698975       9.774674    2015.999927       3.160707  \n",
       "std             3.727167       8.493158       0.008880       0.376397  \n",
       "min             0.000000       1.000000    2014.000000       1.000000  \n",
       "25%             3.000000       3.000000    2016.000000       3.000000  \n",
       "50%             6.000000       7.000000    2016.000000       3.000000  \n",
       "75%             9.000000      15.000000    2016.000000       3.000000  \n",
       "max            12.000000     290.000000    2016.000000      12.000000  "
      ]
     },
     "execution_count": 15,
     "metadata": {},
     "output_type": "execute_result"
    }
   ],
   "source": [
    "data['RegistrationYear'] = data[(\n",
    "    (data['RegistrationYear']>=data['RegistrationYear'].quantile(0.01))\n",
    "    &(data['RegistrationYear']<=data['RegistrationYear'].quantile(0.99)))]['RegistrationYear']\n",
    "print(data.dropna().shape)\n",
    "data.describe()"
   ]
  },
  {
   "cell_type": "code",
   "execution_count": 16,
   "metadata": {},
   "outputs": [
    {
     "name": "stderr",
     "output_type": "stream",
     "text": [
      "/opt/conda/lib/python3.7/site-packages/ipykernel_launcher.py:2: SettingWithCopyWarning: \n",
      "A value is trying to be set on a copy of a slice from a DataFrame.\n",
      "Try using .loc[row_indexer,col_indexer] = value instead\n",
      "\n",
      "See the caveats in the documentation: http://pandas.pydata.org/pandas-docs/stable/user_guide/indexing.html#returning-a-view-versus-a-copy\n",
      "  \n"
     ]
    },
    {
     "data": {
      "text/plain": [
       "(316817, 14)"
      ]
     },
     "execution_count": 16,
     "metadata": {},
     "output_type": "execute_result"
    }
   ],
   "source": [
    "data = data[data['Price'].isna()==False]\n",
    "data['Power'] = data['Power'].fillna(data['Power'].median())\n",
    "data = data.dropna()\n",
    "data.shape"
   ]
  },
  {
   "cell_type": "markdown",
   "metadata": {},
   "source": [
    "## Вывод\n",
    "Кажется, на этом все. Пропущенные значения удалять не буду (удалил только из таргета). Буду пробовать обучать модель сперва на данных с пропусками, если результат будет слишком плохой, удалю вообще все пропуски.\n",
    "Если есть предложения по поводу введения верхней границы для Price, или изменения нижней для Power, или нечто аналогичное, буду рад услышать обоснование.\n"
   ]
  },
  {
   "cell_type": "markdown",
   "metadata": {},
   "source": [
    "# 2. Обучение моделей"
   ]
  },
  {
   "cell_type": "code",
   "execution_count": 17,
   "metadata": {},
   "outputs": [],
   "source": [
    "categorical_features = ['Gearbox',  'Model', 'Brand', 'FuelType', 'VehicleType', 'NotRepaired']#, 'Year_created', 'Month_created' 'RegistrationYear', 'RegistrationMonth','Power',]"
   ]
  },
  {
   "cell_type": "markdown",
   "metadata": {},
   "source": [
    "### Обучаю случайный лес"
   ]
  },
  {
   "cell_type": "code",
   "execution_count": 26,
   "metadata": {},
   "outputs": [],
   "source": [
    "from sklearn.model_selection import train_test_split\n",
    "from sklearn.model_selection import GridSearchCV\n",
    "from sklearn.ensemble import RandomForestRegressor\n",
    "from sklearn.model_selection import StratifiedShuffleSplit\n",
    "from sklearn.preprocessing import OrdinalEncoder\n",
    "import numpy as np\n",
    "from sklearn.preprocessing import StandardScaler\n",
    "from sklearn.metrics import mean_squared_error\n",
    "data_regression = data.copy()\n",
    "\n",
    "data_regression[categorical_features] = data_regression[categorical_features].astype('category')\n",
    "\n",
    "encoder = OrdinalEncoder()\n",
    "encoder.fit(data_regression[categorical_features]) ### лишняя строка\n",
    "data_regression[categorical_features] = encoder.fit_transform(data_regression[categorical_features])\n",
    "\n",
    "data_regression = data_regression.dropna()\n",
    "features = data_regression.drop('Price', axis=1)\n",
    "target = data_regression['Price']\n",
    "\n",
    "sc = StandardScaler()\n",
    "features[list(set(features.columns) - set(categorical_features))] = sc.fit_transform(features[list(set(features.columns) - set(categorical_features))])\n",
    "\n",
    "features_train, features_test, target_train, target_test = train_test_split(features, target, test_size=0.25, random_state=0)\n",
    "model_forest = RandomForestRegressor()\n",
    "\n",
    "params = {\n",
    "    'bootstrap': [True],\n",
    "    'criterion': ['mse'],\n",
    "    'max_depth': [6],\n",
    "    'max_features': ['auto'],\n",
    "    'max_leaf_nodes': [None],\n",
    "    'min_impurity_decrease': [0.0],\n",
    "    'min_impurity_split': [None],\n",
    "    'min_samples_leaf': [1],\n",
    "    'min_samples_split': [2],\n",
    "    'min_weight_fraction_leaf': [0.0],\n",
    "    'n_estimators': [78],\n",
    "    'n_jobs': [None],\n",
    "    'oob_score': [False],\n",
    "    'random_state': [0],\n",
    "    'verbose': [1],\n",
    "    'warm_start': [False]\n",
    "}\n",
    "\n",
    "grid_cv = GridSearchCV(model_forest, params, scoring='neg_mean_squared_error', cv = 2)"
   ]
  },
  {
   "cell_type": "code",
   "execution_count": 28,
   "metadata": {},
   "outputs": [
    {
     "name": "stderr",
     "output_type": "stream",
     "text": [
      "[Parallel(n_jobs=1)]: Using backend SequentialBackend with 1 concurrent workers.\n",
      "[Parallel(n_jobs=1)]: Done  78 out of  78 | elapsed:   11.9s finished\n",
      "[Parallel(n_jobs=1)]: Using backend SequentialBackend with 1 concurrent workers.\n",
      "[Parallel(n_jobs=1)]: Done  78 out of  78 | elapsed:    0.5s finished\n",
      "[Parallel(n_jobs=1)]: Using backend SequentialBackend with 1 concurrent workers.\n",
      "[Parallel(n_jobs=1)]: Done  78 out of  78 | elapsed:   11.8s finished\n",
      "[Parallel(n_jobs=1)]: Using backend SequentialBackend with 1 concurrent workers.\n",
      "[Parallel(n_jobs=1)]: Done  78 out of  78 | elapsed:    0.5s finished\n",
      "[Parallel(n_jobs=1)]: Using backend SequentialBackend with 1 concurrent workers.\n"
     ]
    },
    {
     "name": "stdout",
     "output_type": "stream",
     "text": [
      "CPU times: user 50.5 s, sys: 23.4 ms, total: 50.5 s\n",
      "Wall time: 50.6 s\n"
     ]
    },
    {
     "name": "stderr",
     "output_type": "stream",
     "text": [
      "[Parallel(n_jobs=1)]: Done  78 out of  78 | elapsed:   25.7s finished\n"
     ]
    },
    {
     "data": {
      "text/plain": [
       "GridSearchCV(cv=2, error_score='raise-deprecating',\n",
       "             estimator=RandomForestRegressor(bootstrap=True, criterion='mse',\n",
       "                                             max_depth=None,\n",
       "                                             max_features='auto',\n",
       "                                             max_leaf_nodes=None,\n",
       "                                             min_impurity_decrease=0.0,\n",
       "                                             min_impurity_split=None,\n",
       "                                             min_samples_leaf=1,\n",
       "                                             min_samples_split=2,\n",
       "                                             min_weight_fraction_leaf=0.0,\n",
       "                                             n_estimators='warn', n_jobs=None,\n",
       "                                             oob_score=False, random_state=Non...\n",
       "                         'min_impurity_decrease': [0.0],\n",
       "                         'min_impurity_split': [None], 'min_samples_leaf': [1],\n",
       "                         'min_samples_split': [2],\n",
       "                         'min_weight_fraction_leaf': [0.0],\n",
       "                         'n_estimators': [78], 'n_jobs': [None],\n",
       "                         'oob_score': [False], 'random_state': [0],\n",
       "                         'verbose': [1], 'warm_start': [False]},\n",
       "             pre_dispatch='2*n_jobs', refit=True, return_train_score=False,\n",
       "             scoring='neg_mean_squared_error', verbose=0)"
      ]
     },
     "execution_count": 28,
     "metadata": {},
     "output_type": "execute_result"
    }
   ],
   "source": [
    "%%time\n",
    "grid_cv.fit(features_train, target_train)"
   ]
  },
  {
   "cell_type": "code",
   "execution_count": 29,
   "metadata": {},
   "outputs": [
    {
     "name": "stdout",
     "output_type": "stream",
     "text": [
      "RandomForestRegressor(bootstrap=True, criterion='mse', max_depth=6,\n",
      "                      max_features='auto', max_leaf_nodes=None,\n",
      "                      min_impurity_decrease=0.0, min_impurity_split=None,\n",
      "                      min_samples_leaf=1, min_samples_split=2,\n",
      "                      min_weight_fraction_leaf=0.0, n_estimators=78,\n",
      "                      n_jobs=None, oob_score=False, random_state=0, verbose=1,\n",
      "                      warm_start=False)\n"
     ]
    },
    {
     "data": {
      "text/plain": [
       "2349.643570464379"
      ]
     },
     "execution_count": 29,
     "metadata": {},
     "output_type": "execute_result"
    }
   ],
   "source": [
    "print(grid_cv.best_estimator_)\n",
    "abs(grid_cv.best_score_)**0.5"
   ]
  },
  {
   "cell_type": "code",
   "execution_count": 31,
   "metadata": {},
   "outputs": [
    {
     "name": "stderr",
     "output_type": "stream",
     "text": [
      "[Parallel(n_jobs=1)]: Using backend SequentialBackend with 1 concurrent workers.\n"
     ]
    },
    {
     "name": "stdout",
     "output_type": "stream",
     "text": [
      "CPU times: user 25.8 s, sys: 0 ns, total: 25.8 s\n",
      "Wall time: 26 s\n"
     ]
    },
    {
     "name": "stderr",
     "output_type": "stream",
     "text": [
      "[Parallel(n_jobs=1)]: Done  78 out of  78 | elapsed:   25.9s finished\n"
     ]
    },
    {
     "data": {
      "text/plain": [
       "RandomForestRegressor(bootstrap=True, criterion='mse', max_depth=6,\n",
       "                      max_features='auto', max_leaf_nodes=None,\n",
       "                      min_impurity_decrease=0.0, min_impurity_split=None,\n",
       "                      min_samples_leaf=1, min_samples_split=2,\n",
       "                      min_weight_fraction_leaf=0.0, n_estimators=78,\n",
       "                      n_jobs=None, oob_score=False, random_state=0, verbose=1,\n",
       "                      warm_start=False)"
      ]
     },
     "execution_count": 31,
     "metadata": {},
     "output_type": "execute_result"
    }
   ],
   "source": [
    "%%time\n",
    "model_forest = grid_cv.best_estimator_\n",
    "model_forest.fit(features_train, target_train)"
   ]
  },
  {
   "cell_type": "code",
   "execution_count": 32,
   "metadata": {},
   "outputs": [
    {
     "name": "stderr",
     "output_type": "stream",
     "text": [
      "[Parallel(n_jobs=1)]: Using backend SequentialBackend with 1 concurrent workers.\n"
     ]
    },
    {
     "name": "stdout",
     "output_type": "stream",
     "text": [
      "CPU times: user 368 ms, sys: 0 ns, total: 368 ms\n",
      "Wall time: 384 ms\n"
     ]
    },
    {
     "name": "stderr",
     "output_type": "stream",
     "text": [
      "[Parallel(n_jobs=1)]: Done  78 out of  78 | elapsed:    0.4s finished\n"
     ]
    },
    {
     "data": {
      "text/plain": [
       "2348.070762030704"
      ]
     },
     "execution_count": 32,
     "metadata": {},
     "output_type": "execute_result"
    }
   ],
   "source": [
    "%%time\n",
    "prediction = model_forest.predict(features_test)\n",
    "mean_squared_error(target_test, prediction)**0.5"
   ]
  },
  {
   "cell_type": "markdown",
   "metadata": {},
   "source": [
    "## LGB REGRESSION"
   ]
  },
  {
   "cell_type": "code",
   "execution_count": 184,
   "metadata": {},
   "outputs": [
    {
     "name": "stdout",
     "output_type": "stream",
     "text": [
      "Index(['Price', 'VehicleType', 'RegistrationYear', 'Gearbox', 'Power', 'Model',\n",
      "       'Kilometer', 'RegistrationMonth', 'FuelType', 'Brand', 'NotRepaired',\n",
      "       'activities', 'Year_created', 'Month_created'],\n",
      "      dtype='object')\n"
     ]
    },
    {
     "data": {
      "text/plain": [
       "Int64Index([1, 3, 5, 8, 9, 10], dtype='int64')"
      ]
     },
     "execution_count": 184,
     "metadata": {},
     "output_type": "execute_result"
    }
   ],
   "source": [
    "data_lgb = data.copy()\n",
    "print(data_lgb.columns)\n",
    "data_lgb = data_lgb.drop('Year_created', axis=1)\n",
    "\n",
    "inx = pd.Series(data_lgb.columns.isin(categorical_features))\n",
    "categorical_features_inx = inx[inx].index\n",
    "\n",
    "data_lgb[categorical_features] = data_lgb[categorical_features].astype('category')\n",
    "features = data_lgb.drop('Price', axis=1)\n",
    "target = data_lgb['Price']\n",
    "features_train, features_test, target_train, target_test = train_test_split(features, target, test_size=0.25, random_state=0)\n",
    "categorical_features_inx"
   ]
  },
  {
   "cell_type": "code",
   "execution_count": 185,
   "metadata": {},
   "outputs": [
    {
     "data": {
      "text/plain": [
       "1634.319148908653"
      ]
     },
     "execution_count": 185,
     "metadata": {},
     "output_type": "execute_result"
    }
   ],
   "source": [
    "import lightgbm as lgb\n",
    "from sklearn.metrics import mean_squared_error\n",
    "model_lgb = lgb.LGBMRegressor()\n",
    "model_lgb.fit(features_train, target_train)\n",
    "prediction = model_lgb.predict(features_test)\n",
    "\n",
    "mean_squared_error(target_test, prediction)**0.5"
   ]
  },
  {
   "cell_type": "code",
   "execution_count": 186,
   "metadata": {},
   "outputs": [],
   "source": [
    "params_lgb = {\n",
    "    'max_depth' : [8], \n",
    "    'num_leaves' : [256],\n",
    "    'learning_rate' :[0.0889],\n",
    "    'num_iterations' : [300],\n",
    "    'max_bin': [300],\n",
    "    'lambda_l1' : [0.07500000000000001],\n",
    "    'lambda_l2' : [0.07500000000000001]\n",
    "}\n",
    "\n",
    "grid_cv_lgb = GridSearchCV(model_lgb, params_lgb, scoring='neg_mean_squared_error', cv = 2)"
   ]
  },
  {
   "cell_type": "code",
   "execution_count": 187,
   "metadata": {},
   "outputs": [
    {
     "name": "stderr",
     "output_type": "stream",
     "text": [
      "/opt/conda/lib/python3.7/site-packages/lightgbm/engine.py:148: UserWarning: Found `num_iterations` in params. Will use it instead of argument\n",
      "  warnings.warn(\"Found `{}` in params. Will use it instead of argument\".format(alias))\n",
      "/opt/conda/lib/python3.7/site-packages/lightgbm/engine.py:148: UserWarning: Found `num_iterations` in params. Will use it instead of argument\n",
      "  warnings.warn(\"Found `{}` in params. Will use it instead of argument\".format(alias))\n",
      "/opt/conda/lib/python3.7/site-packages/lightgbm/engine.py:148: UserWarning: Found `num_iterations` in params. Will use it instead of argument\n",
      "  warnings.warn(\"Found `{}` in params. Will use it instead of argument\".format(alias))\n"
     ]
    },
    {
     "name": "stdout",
     "output_type": "stream",
     "text": [
      "CPU times: user 2min 57s, sys: 115 ms, total: 2min 57s\n",
      "Wall time: 2min 59s\n"
     ]
    },
    {
     "data": {
      "text/plain": [
       "GridSearchCV(cv=2, error_score='raise-deprecating',\n",
       "             estimator=LGBMRegressor(boosting_type='gbdt', class_weight=None,\n",
       "                                     colsample_bytree=1.0,\n",
       "                                     importance_type='split', learning_rate=0.1,\n",
       "                                     max_depth=-1, min_child_samples=20,\n",
       "                                     min_child_weight=0.001, min_split_gain=0.0,\n",
       "                                     n_estimators=100, n_jobs=-1, num_leaves=31,\n",
       "                                     objective=None, random_state=None,\n",
       "                                     reg_alpha=0.0, reg_lambda...\n",
       "                                     subsample=1.0, subsample_for_bin=200000,\n",
       "                                     subsample_freq=0),\n",
       "             iid='warn', n_jobs=None,\n",
       "             param_grid={'lambda_l1': [0.07500000000000001],\n",
       "                         'lambda_l2': [0.07500000000000001],\n",
       "                         'learning_rate': [0.0889], 'max_bin': [300],\n",
       "                         'max_depth': [8], 'num_iterations': [300],\n",
       "                         'num_leaves': [256]},\n",
       "             pre_dispatch='2*n_jobs', refit=True, return_train_score=False,\n",
       "             scoring='neg_mean_squared_error', verbose=0)"
      ]
     },
     "execution_count": 187,
     "metadata": {},
     "output_type": "execute_result"
    }
   ],
   "source": [
    "%%time\n",
    "grid_cv_lgb.fit(features_train, target_train)"
   ]
  },
  {
   "cell_type": "code",
   "execution_count": 188,
   "metadata": {},
   "outputs": [
    {
     "name": "stdout",
     "output_type": "stream",
     "text": [
      "LGBMRegressor(boosting_type='gbdt', class_weight=None, colsample_bytree=1.0,\n",
      "              importance_type='split', lambda_l1=0.07500000000000001,\n",
      "              lambda_l2=0.07500000000000001, learning_rate=0.0889, max_bin=300,\n",
      "              max_depth=8, min_child_samples=20, min_child_weight=0.001,\n",
      "              min_split_gain=0.0, n_estimators=100, n_jobs=-1,\n",
      "              num_iterations=300, num_leaves=256, objective=None,\n",
      "              random_state=None, reg_alpha=0.0, reg_lambda=0.0, silent=True,\n",
      "              subsample=1.0, subsample_for_bin=200000, subsample_freq=0)\n"
     ]
    },
    {
     "data": {
      "text/plain": [
       "1587.2852288988909"
      ]
     },
     "execution_count": 188,
     "metadata": {},
     "output_type": "execute_result"
    }
   ],
   "source": [
    "print(grid_cv_lgb.best_estimator_)\n",
    "abs(grid_cv_lgb.best_score_)**0.5\n"
   ]
  },
  {
   "cell_type": "code",
   "execution_count": 189,
   "metadata": {},
   "outputs": [
    {
     "name": "stdout",
     "output_type": "stream",
     "text": [
      "CPU times: user 1min 1s, sys: 296 ms, total: 1min 1s\n",
      "Wall time: 1min 2s\n"
     ]
    },
    {
     "data": {
      "text/plain": [
       "<matplotlib.axes._subplots.AxesSubplot at 0x7f94cfaf2d90>"
      ]
     },
     "execution_count": 189,
     "metadata": {},
     "output_type": "execute_result"
    },
    {
     "data": {
      "image/png": "[encoded data removed]",
      "text/plain": [
       "<Figure size 432x288 with 1 Axes>"
      ]
     },
     "metadata": {
      "needs_background": "light"
     },
     "output_type": "display_data"
    }
   ],
   "source": [
    "%%time\n",
    "model_lgb_final = grid_cv_lgb.best_estimator_#lgb.LGBMRegressor(params)\n",
    "model_lgb_final.fit(features_train, target_train)\n",
    "feat_importance = pd.Series(model_lgb_final.feature_importances_, index = features_train.columns)\n",
    "feat_importance.plot(kind='bar', sort_columns=True)"
   ]
  },
  {
   "cell_type": "code",
   "execution_count": 190,
   "metadata": {},
   "outputs": [
    {
     "name": "stdout",
     "output_type": "stream",
     "text": [
      "CPU times: user 8.8 s, sys: 0 ns, total: 8.8 s\n",
      "Wall time: 8.76 s\n"
     ]
    }
   ],
   "source": [
    "%%time\n",
    "prediction = model_lgb_final.predict(features_test)"
   ]
  },
  {
   "cell_type": "code",
   "execution_count": 191,
   "metadata": {},
   "outputs": [
    {
     "data": {
      "text/plain": [
       "1544.9469515289222"
      ]
     },
     "execution_count": 191,
     "metadata": {},
     "output_type": "execute_result"
    }
   ],
   "source": [
    "from sklearn.metrics import mean_squared_error\n",
    "mean_squared_error(target_test, prediction)**0.5"
   ]
  },
  {
   "cell_type": "markdown",
   "metadata": {},
   "source": [
    "## CatBoost"
   ]
  },
  {
   "cell_type": "code",
   "execution_count": 131,
   "metadata": {},
   "outputs": [],
   "source": [
    "data_cat = data.copy()\n",
    "data_cat= data_cat.drop('Year_created', axis=1)"
   ]
  },
  {
   "cell_type": "code",
   "execution_count": 157,
   "metadata": {},
   "outputs": [
    {
     "data": {
      "text/plain": [
       "\"\\nmodel = CatBoostRegressor(iterations=1000, \\n                          depth=8,  \\n                          loss_function='RMSE')\\nmodel.fit(train_pool)\\npredictions = model.predict(test_pool)\\nmean_squared_error(target_test, predictions)**0.5\""
      ]
     },
     "execution_count": 157,
     "metadata": {},
     "output_type": "execute_result"
    }
   ],
   "source": [
    "from catboost import Pool, CatBoostRegressor\n",
    "inx = pd.Series(data_cat.columns.isin(categorical_features))\n",
    "categorical_features_inx = inx[inx].index\n",
    "\n",
    "data_cat[categorical_features] = data_cat[categorical_features].astype('category')\n",
    "features = data_cat.drop('Price', axis=1)\n",
    "target = data_cat['Price']\n",
    "features_train, features_test, target_train, target_test = train_test_split(features, target, test_size=0.25, random_state=0)\n",
    "\n",
    "train_pool = Pool(features_train, \n",
    "                  target_train, cat_features=pd.Series(categorical_features_inx)-1)\n",
    "test_pool = Pool(features_test, \n",
    "                 cat_features=pd.Series(categorical_features_inx)-1)\n",
    "\"\"\"\n",
    "model = CatBoostRegressor(iterations=1000, \n",
    "                          depth=8,  \n",
    "                          loss_function='RMSE')\n",
    "model.fit(train_pool)\n",
    "predictions = model.predict(test_pool)\n",
    "mean_squared_error(target_test, predictions)**0.5\"\"\""
   ]
  },
  {
   "cell_type": "code",
   "execution_count": 164,
   "metadata": {
    "scrolled": false
   },
   "outputs": [
    {
     "name": "stdout",
     "output_type": "stream",
     "text": [
      "0:\tloss: 1806.4789480\tbest: 1806.4789480 (0)\ttotal: 4m 23s\tremaining: 13m 10s\n",
      "1:\tloss: 1720.7595197\tbest: 1720.7595197 (1)\ttotal: 13m 10s\tremaining: 13m 10s\n",
      "2:\tloss: 1685.6031402\tbest: 1685.6031402 (2)\ttotal: 20m 39s\tremaining: 6m 53s\n",
      "3:\tloss: 1628.4239591\tbest: 1628.4239591 (3)\ttotal: 35m 58s\tremaining: 0us\n",
      "Estimating final quality...\n"
     ]
    }
   ],
   "source": [
    "model_cat = CatBoostRegressor()\n",
    "params_cat = {\n",
    "    'iterations' : [500, 1000],\n",
    "    'depth' : [5, 8]\n",
    "    #'loss_function' : ['RMSE']#,\n",
    "    #'cat_features': list(pd.Series(categorical_features_inx)-1)\n",
    "}\n",
    "model_cat_search_result = model_cat.grid_search(param_grid=params_cat, \n",
    "                                       X=train_pool, cv=2,\n",
    "                                       plot=False)"
   ]
  },
  {
   "cell_type": "code",
   "execution_count": 170,
   "metadata": {},
   "outputs": [
    {
     "data": {
      "text/plain": [
       "{'depth': 8, 'iterations': 1000}"
      ]
     },
     "execution_count": 170,
     "metadata": {},
     "output_type": "execute_result"
    }
   ],
   "source": [
    "model_cat_search_result['params']"
   ]
  },
  {
   "cell_type": "code",
   "execution_count": 173,
   "metadata": {},
   "outputs": [
    {
     "name": "stdout",
     "output_type": "stream",
     "text": [
      "CPU times: user 15min 11s, sys: 1min 53s, total: 17min 4s\n",
      "Wall time: 17min 7s\n"
     ]
    },
    {
     "data": {
      "text/plain": [
       "<catboost.core.CatBoostRegressor at 0x7f94d53a83d0>"
      ]
     },
     "execution_count": 173,
     "metadata": {},
     "output_type": "execute_result"
    }
   ],
   "source": [
    "%%time\n",
    "model_cat_final = CatBoostRegressor(depth=8, iterations=1000, verbose=False)\n",
    "model_cat_final.fit(train_pool)"
   ]
  },
  {
   "cell_type": "code",
   "execution_count": 174,
   "metadata": {},
   "outputs": [
    {
     "name": "stdout",
     "output_type": "stream",
     "text": [
      "CPU times: user 975 ms, sys: 61.2 ms, total: 1.04 s\n",
      "Wall time: 1.01 s\n"
     ]
    },
    {
     "data": {
      "text/plain": [
       "1610.6277304350472"
      ]
     },
     "execution_count": 174,
     "metadata": {},
     "output_type": "execute_result"
    }
   ],
   "source": [
    "%%time\n",
    "predictions = model_cat_final.predict(test_pool)\n",
    "mean_squared_error(target_test, predictions)**0.5"
   ]
  },
  {
   "cell_type": "markdown",
   "metadata": {},
   "source": [
    "# 3. Анализ моделей"
   ]
  },
  {
   "cell_type": "code",
   "execution_count": 193,
   "metadata": {},
   "outputs": [
    {
     "data": {
      "text/html": [
       "<div>\n",
       "<style scoped>\n",
       "    .dataframe tbody tr th:only-of-type {\n",
       "        vertical-align: middle;\n",
       "    }\n",
       "\n",
       "    .dataframe tbody tr th {\n",
       "        vertical-align: top;\n",
       "    }\n",
       "\n",
       "    .dataframe thead th {\n",
       "        text-align: right;\n",
       "    }\n",
       "</style>\n",
       "<table border=\"1\" class=\"dataframe\">\n",
       "  <thead>\n",
       "    <tr style=\"text-align: right;\">\n",
       "      <th></th>\n",
       "      <th>RMSE cross-validation</th>\n",
       "      <th>RMSE test</th>\n",
       "      <th>fitting time</th>\n",
       "      <th>time of prediction</th>\n",
       "    </tr>\n",
       "  </thead>\n",
       "  <tbody>\n",
       "    <tr>\n",
       "      <td>RandomForestRegressor</td>\n",
       "      <td>2427.6</td>\n",
       "      <td>2427.0</td>\n",
       "      <td>23.5s</td>\n",
       "      <td>358ms</td>\n",
       "    </tr>\n",
       "    <tr>\n",
       "      <td>lightGBMRegressor</td>\n",
       "      <td>1587.3</td>\n",
       "      <td>1544.9</td>\n",
       "      <td>1m2s</td>\n",
       "      <td>8.76s</td>\n",
       "    </tr>\n",
       "    <tr>\n",
       "      <td>CatBoostRegressor</td>\n",
       "      <td>1628.4</td>\n",
       "      <td>1610.6</td>\n",
       "      <td>17min7s</td>\n",
       "      <td>1.01s</td>\n",
       "    </tr>\n",
       "  </tbody>\n",
       "</table>\n",
       "</div>"
      ],
      "text/plain": [
       "                       RMSE cross-validation  RMSE test fitting time  \\\n",
       "RandomForestRegressor                 2427.6     2427.0        23.5s   \n",
       "lightGBMRegressor                     1587.3     1544.9         1m2s   \n",
       "CatBoostRegressor                     1628.4     1610.6      17min7s   \n",
       "\n",
       "                      time of prediction  \n",
       "RandomForestRegressor              358ms  \n",
       "lightGBMRegressor                  8.76s  \n",
       "CatBoostRegressor                  1.01s  "
      ]
     },
     "execution_count": 193,
     "metadata": {},
     "output_type": "execute_result"
    }
   ],
   "source": [
    "pd.DataFrame({'RMSE cross-validation' : [2427.6, 1587.3, 1628.4], \n",
    "              'RMSE test' : [2427.0, 1544.9, 1610.6],\n",
    "              'fitting time' : ['23.5s', '1m2s', '17min7s'],\n",
    "              'time of prediction' : ['358ms', '8.76s', '1.01s']\n",
    "             }, index=['RandomForestRegressor', 'lightGBMRegressor', 'CatBoostRegressor'])"
   ]
  },
  {
   "cell_type": "markdown",
   "metadata": {},
   "source": [
    "# Вывод\n",
    "Очевидно, что случайный лес справляется с задачей прогнозирования лучше.\n",
    "На настройку леса (черновой подбор параметров + время на чтение документации по GridSearchCV (так получилось, что ранее не работал с такими инструментами)) я потратил менее часа. На подбор гиперпараметров LightGBM я потратил часов 6 (такой же черновой вариант). Лучшая модель обучается за 44.5 секунд, и лучше стандартной всего на 86 пунктов (не знаю, в какой валюте выражена цена). На обучение CatBoost'а я потратил меньше всего времени, но главное это не время настройки (15 минут, да, неплохо), а то что показатели CatBoost'а аналогичны показателю LightGBM, и в каждом из этих неудачных случаев использовался алгоритм бустинга.\n",
    "\n",
    "#### Вывод по выводу: \n",
    "На мой взгляд, потратить часов 5-6 на обучение хорошей модели, решающей бизнес-задачу с высокой точностью вполне приемлемо. Поэтому как бы я действовал дальше в условиях реального проекта (при условии что я не знаю никакой новой информации о каких-то других инструментах): запустил бы детальный и широкий подбор гиперпараметров для леса.  "
   ]
  }
 ],
 "metadata": {
  "kernelspec": {
   "display_name": "Python 3",
   "language": "python",
   "name": "python3"
  },
  "language_info": {
   "codemirror_mode": {
    "name": "ipython",
    "version": 3
   },
   "file_extension": ".py",
   "mimetype": "text/x-python",
   "name": "python",
   "nbconvert_exporter": "python",
   "pygments_lexer": "ipython3",
   "version": "3.7.6"
  }
 },
 "nbformat": 4,
 "nbformat_minor": 2
}
