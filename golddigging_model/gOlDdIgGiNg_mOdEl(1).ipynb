{
 "cells": [
  {
   "cell_type": "markdown",
   "metadata": {},
   "source": [
    "# Этапы проекта:\n",
    "- [Подготовка данных](#cell1)\n",
    "    - [Проверка эффективности обогащения](#cell1.2)\n",
    "    - [Анализ признаков, недоступных в тестовой выборке](#cell1.3)\n",
    "        - [Вывод](#cell1.3_)\n",
    "    - [Предобработка данных](#cell1.4_)\n",
    "- [Анализ данных](#cell2)\n",
    "    - [Изменение концентраций Au, Ag, Pb](#cell2.1)\n",
    "        - [Вывод](#cell2.1_)\n",
    "    - [Сравнение размеров гранул на различных этапах очистки](#cell2.2)\n",
    "        - [Вывод](#cell2.2_)\n",
    "    - [Исследование концентраций веществ на разных стадиях](#cell2.3)\n",
    "        - [Вывод](#cell2.3_)\n",
    "- [Модель](#cell3)\n",
    "    - [Создание функции для вычисления sMAPE](#cell3.1)\n",
    "    - [Обучение модели](#cell3.2)\n",
    "        - [Вывод](#cell3.2_)"
   ]
  },
  {
   "cell_type": "markdown",
   "metadata": {},
   "source": [
    "# 1. Подготовка данных<a id=\"cell1\"></a>"
   ]
  },
  {
   "cell_type": "code",
   "execution_count": 1,
   "metadata": {},
   "outputs": [],
   "source": [
    "import pandas as pd\n",
    "data_test = pd.read_csv('/datasets/gold_recovery_test.csv', index_col='date')\n",
    "data_train = pd.read_csv('/datasets/gold_recovery_train.csv', index_col='date')\n",
    "data_full = pd.read_csv('/datasets/gold_recovery_full.csv', index_col='date')"
   ]
  },
  {
   "cell_type": "markdown",
   "metadata": {},
   "source": [
    "### 1.2 Проверка эффективности обогащения<a id=\"cell1.2\"></a>"
   ]
  },
  {
   "cell_type": "code",
   "execution_count": 2,
   "metadata": {},
   "outputs": [
    {
     "name": "stderr",
     "output_type": "stream",
     "text": [
      "/opt/conda/lib/python3.7/site-packages/ipykernel_launcher.py:14: SettingWithCopyWarning: \n",
      "A value is trying to be set on a copy of a slice from a DataFrame.\n",
      "Try using .loc[row_indexer,col_indexer] = value instead\n",
      "\n",
      "See the caveats in the documentation: http://pandas.pydata.org/pandas-docs/stable/user_guide/indexing.html#returning-a-view-versus-a-copy\n",
      "  \n"
     ]
    },
    {
     "data": {
      "text/plain": [
       "9.444891926100695e-15"
      ]
     },
     "execution_count": 2,
     "metadata": {},
     "output_type": "execute_result"
    }
   ],
   "source": [
    "from sklearn.metrics import mean_absolute_error\n",
    "\n",
    "def check_recovery(row):\n",
    "    C = row['rougher.output.concentrate_au']\n",
    "    F = row['rougher.input.feed_au']\n",
    "    T = row['rougher.output.tail_au']\n",
    "    if F * (C - T) == 0:\n",
    "        return row\n",
    "    row['recovery'] = 100 * (C * (F - T) / (F * (C - T)))\n",
    "    return row\n",
    "    \n",
    "\n",
    "data_check_recovery = data_train[['rougher.output.recovery', 'rougher.output.concentrate_au', 'rougher.input.feed_au', 'rougher.output.tail_au']]\n",
    "data_check_recovery['recovery'] = pd.Series()\n",
    "data_check_recovery = data_check_recovery.apply(check_recovery, axis=1).dropna()\n",
    "mean_absolute_error(data_check_recovery['rougher.output.recovery'], data_check_recovery['recovery'])"
   ]
  },
  {
   "cell_type": "markdown",
   "metadata": {},
   "source": [
    "### 1.3 Анализ признаков, недоступных в тестовой выборке<a id=\"cell1.3\"></a>"
   ]
  },
  {
   "cell_type": "code",
   "execution_count": 3,
   "metadata": {},
   "outputs": [
    {
     "data": {
      "text/plain": [
       "{'final.output.concentrate_ag',\n",
       " 'final.output.concentrate_au',\n",
       " 'final.output.concentrate_pb',\n",
       " 'final.output.concentrate_sol',\n",
       " 'final.output.recovery',\n",
       " 'final.output.tail_ag',\n",
       " 'final.output.tail_au',\n",
       " 'final.output.tail_pb',\n",
       " 'final.output.tail_sol',\n",
       " 'primary_cleaner.output.concentrate_ag',\n",
       " 'primary_cleaner.output.concentrate_au',\n",
       " 'primary_cleaner.output.concentrate_pb',\n",
       " 'primary_cleaner.output.concentrate_sol',\n",
       " 'primary_cleaner.output.tail_ag',\n",
       " 'primary_cleaner.output.tail_au',\n",
       " 'primary_cleaner.output.tail_pb',\n",
       " 'primary_cleaner.output.tail_sol',\n",
       " 'rougher.calculation.au_pb_ratio',\n",
       " 'rougher.calculation.floatbank10_sulfate_to_au_feed',\n",
       " 'rougher.calculation.floatbank11_sulfate_to_au_feed',\n",
       " 'rougher.calculation.sulfate_to_au_concentrate',\n",
       " 'rougher.output.concentrate_ag',\n",
       " 'rougher.output.concentrate_au',\n",
       " 'rougher.output.concentrate_pb',\n",
       " 'rougher.output.concentrate_sol',\n",
       " 'rougher.output.recovery',\n",
       " 'rougher.output.tail_ag',\n",
       " 'rougher.output.tail_au',\n",
       " 'rougher.output.tail_pb',\n",
       " 'rougher.output.tail_sol',\n",
       " 'secondary_cleaner.output.tail_ag',\n",
       " 'secondary_cleaner.output.tail_au',\n",
       " 'secondary_cleaner.output.tail_pb',\n",
       " 'secondary_cleaner.output.tail_sol'}"
      ]
     },
     "execution_count": 3,
     "metadata": {},
     "output_type": "execute_result"
    }
   ],
   "source": [
    "features_train = data_train.columns\n",
    "features_test = data_test.columns\n",
    "set(features_train) - set(features_test)"
   ]
  },
  {
   "cell_type": "markdown",
   "metadata": {},
   "source": [
    "Все эти признаки относятся к категориям output и calculation, т.е. для обучения модели их использовать нельзя, тк они сильно связаны с результатом\n",
    "Также я заглянул слегка вперед, в тестовой выборке отсутствуют target'ы - final.output.recovery и rougher.output.recovery, нужно будет их вычленить из data_full для дальнейшей работы <a id=\"cell1ю3_\"></a>"
   ]
  },
  {
   "cell_type": "markdown",
   "metadata": {},
   "source": [
    "### 1.4 Предобработка данных<a id=\"cell1.4\"></a>"
   ]
  },
  {
   "cell_type": "code",
   "execution_count": 4,
   "metadata": {},
   "outputs": [],
   "source": [
    "data_test = data_test.fillna(method='ffill')\n",
    "data_train = data_train.fillna(method='ffill')\n",
    "data_full = data_full.fillna(method='ffill')\n",
    "target_test = data_full.loc[data_test.index][['rougher.output.recovery', 'final.output.recovery']]"
   ]
  },
  {
   "cell_type": "markdown",
   "metadata": {},
   "source": [
    "# 2. Анализ данных<a id=\"cell2\"></a>"
   ]
  },
  {
   "cell_type": "markdown",
   "metadata": {},
   "source": [
    "### 2.1 Изменение концентраций Au, Ag, Pb<a id=\"cell2.1\"></a>\n",
    "Найду последовательно для каждого металла MAE, это покажет именно динамику концентрации, тк концентрация изначально дана в процентах"
   ]
  },
  {
   "cell_type": "code",
   "execution_count": 5,
   "metadata": {},
   "outputs": [
    {
     "name": "stdout",
     "output_type": "stream",
     "text": [
      "11.72689031275892 12.06672505811372\n",
      "****************************************************************************************************\n",
      "3.2052943794488 3.717531360446321\n",
      "****************************************************************************************************\n",
      "1.7415692755765406 2.6975166871637617\n",
      "****************************************************************************************************\n"
     ]
    }
   ],
   "source": [
    "import re\n",
    "concentrations_data = data_full[re.findall('.+concentrate_[^so]{2}', '\\n'.join(data_full.columns))]\n",
    "\n",
    "for me in ['au', 'ag', 'pb']:\n",
    "    buf = concentrations_data[re.findall('.+'+me, '\\n'.join(concentrations_data.columns))]\n",
    "    print(mean_absolute_error(buf.iloc[:,0], buf.iloc[:,1]), mean_absolute_error(buf.iloc[:,1], buf.iloc[:,2]))\n",
    "    print('*'*100)"
   ]
  },
  {
   "cell_type": "markdown",
   "metadata": {},
   "source": [
    "Все в принципе неплохо: концентрация золота с каждой степенью очистки возрастала в среднем на число близкое к 12 процентов. Содержание побочных продуктов также увеличивалось<a id=\"cell2.1_\"></a>"
   ]
  },
  {
   "cell_type": "markdown",
   "metadata": {},
   "source": [
    "### 2.2 Сравнение размеров гранул на различных этапах очистки<a id=\"cell2.2\"></a>"
   ]
  },
  {
   "cell_type": "code",
   "execution_count": 6,
   "metadata": {},
   "outputs": [
    {
     "data": {
      "text/plain": [
       "<matplotlib.axes._subplots.AxesSubplot at 0x7fab5e1d1e50>"
      ]
     },
     "execution_count": 6,
     "metadata": {},
     "output_type": "execute_result"
    },
    {
     "data": {
      "image/png": "[encoded data removed]",
      "text/plain": [
       "<Figure size 432x288 with 1 Axes>"
      ]
     },
     "metadata": {
      "needs_background": "light"
     },
     "output_type": "display_data"
    }
   ],
   "source": [
    "import seaborn as sns\n",
    "sns.kdeplot(data = data_train[re.findall('.+feed_size', '\\n'.join(data_train.columns))].sum(axis=1), label = 'размер гранул на тренировочной выборке')\n",
    "sns.kdeplot(data = data_test[re.findall('.+feed_size', '\\n'.join(data_test.columns))].sum(axis=1), label = 'размер гранул на тестовой выборке')"
   ]
  },
  {
   "cell_type": "markdown",
   "metadata": {},
   "source": [
    "Хорошо видно, что распределения практически идентичны<a id=\"cell2.2_\"></a>"
   ]
  },
  {
   "cell_type": "markdown",
   "metadata": {},
   "source": [
    "### 2.3 Исследование концентраций веществ на разных стадиях<a id=\"cell2.3\"></a>\n",
    "датафрейм data_test исследовать не буду т.к. там нет исследуемого признака"
   ]
  },
  {
   "cell_type": "code",
   "execution_count": 7,
   "metadata": {},
   "outputs": [
    {
     "data": {
      "text/plain": [
       "<matplotlib.axes._subplots.AxesSubplot at 0x7fab5d009110>"
      ]
     },
     "execution_count": 7,
     "metadata": {},
     "output_type": "execute_result"
    },
    {
     "data": {
      "image/png": "[encoded data removed]",
      "text/plain": [
       "<Figure size 432x288 with 1 Axes>"
      ]
     },
     "metadata": {
      "needs_background": "light"
     },
     "output_type": "display_data"
    }
   ],
   "source": [
    "data_full[re.findall('.+concentrate.+', '\\n'.join(data_full.columns))].sum(axis=1).hist(alpha=0.5, bins=125)\n",
    "data_train[re.findall('.+concentrate.+', '\\n'.join(data_train.columns))].sum(axis=1).hist(alpha=0.5, bins=125)"
   ]
  },
  {
   "cell_type": "markdown",
   "metadata": {},
   "source": [
    "Виден заметный пик возле нуля, в обоих датасетах. Исследую эти значения."
   ]
  },
  {
   "cell_type": "code",
   "execution_count": 8,
   "metadata": {},
   "outputs": [
    {
     "data": {
      "text/html": [
       "<div>\n",
       "<style scoped>\n",
       "    .dataframe tbody tr th:only-of-type {\n",
       "        vertical-align: middle;\n",
       "    }\n",
       "\n",
       "    .dataframe tbody tr th {\n",
       "        vertical-align: top;\n",
       "    }\n",
       "\n",
       "    .dataframe thead th {\n",
       "        text-align: right;\n",
       "    }\n",
       "</style>\n",
       "<table border=\"1\" class=\"dataframe\">\n",
       "  <thead>\n",
       "    <tr style=\"text-align: right;\">\n",
       "      <th></th>\n",
       "      <th>rougher.output.recovery</th>\n",
       "      <th>final.output.recovery</th>\n",
       "      <th>primary_cleaner.input.sulfate</th>\n",
       "      <th>primary_cleaner.input.depressant</th>\n",
       "      <th>primary_cleaner.input.feed_size</th>\n",
       "      <th>primary_cleaner.input.xanthate</th>\n",
       "      <th>rougher.input.feed_ag</th>\n",
       "      <th>rougher.input.feed_pb</th>\n",
       "      <th>rougher.input.feed_rate</th>\n",
       "      <th>rougher.input.feed_size</th>\n",
       "      <th>rougher.input.feed_sol</th>\n",
       "      <th>rougher.input.feed_au</th>\n",
       "      <th>rougher.input.floatbank10_sulfate</th>\n",
       "      <th>rougher.input.floatbank10_xanthate</th>\n",
       "      <th>rougher.input.floatbank11_sulfate</th>\n",
       "      <th>rougher.input.floatbank11_xanthate</th>\n",
       "    </tr>\n",
       "  </thead>\n",
       "  <tbody>\n",
       "    <tr>\n",
       "      <td>count</td>\n",
       "      <td>1761.000000</td>\n",
       "      <td>1761.000000</td>\n",
       "      <td>1761.000000</td>\n",
       "      <td>1761.000000</td>\n",
       "      <td>1761.000000</td>\n",
       "      <td>1761.000000</td>\n",
       "      <td>1761.000000</td>\n",
       "      <td>1761.000000</td>\n",
       "      <td>1761.000000</td>\n",
       "      <td>1761.000000</td>\n",
       "      <td>1761.000000</td>\n",
       "      <td>1761.000000</td>\n",
       "      <td>1761.000000</td>\n",
       "      <td>1761.000000</td>\n",
       "      <td>1761.000000</td>\n",
       "      <td>1761.000000</td>\n",
       "    </tr>\n",
       "    <tr>\n",
       "      <td>mean</td>\n",
       "      <td>66.837451</td>\n",
       "      <td>66.051646</td>\n",
       "      <td>11.659499</td>\n",
       "      <td>0.690070</td>\n",
       "      <td>7.223366</td>\n",
       "      <td>0.106223</td>\n",
       "      <td>0.159038</td>\n",
       "      <td>0.056986</td>\n",
       "      <td>33.166971</td>\n",
       "      <td>48.822314</td>\n",
       "      <td>0.343033</td>\n",
       "      <td>0.128164</td>\n",
       "      <td>1.014082</td>\n",
       "      <td>0.502431</td>\n",
       "      <td>0.792861</td>\n",
       "      <td>1.539544</td>\n",
       "    </tr>\n",
       "    <tr>\n",
       "      <td>std</td>\n",
       "      <td>28.657888</td>\n",
       "      <td>22.683417</td>\n",
       "      <td>26.762782</td>\n",
       "      <td>2.543995</td>\n",
       "      <td>0.632403</td>\n",
       "      <td>0.494520</td>\n",
       "      <td>0.993583</td>\n",
       "      <td>0.378177</td>\n",
       "      <td>93.633079</td>\n",
       "      <td>46.142363</td>\n",
       "      <td>3.425792</td>\n",
       "      <td>0.830030</td>\n",
       "      <td>2.955486</td>\n",
       "      <td>2.278149</td>\n",
       "      <td>2.311705</td>\n",
       "      <td>1.840151</td>\n",
       "    </tr>\n",
       "    <tr>\n",
       "      <td>min</td>\n",
       "      <td>0.000000</td>\n",
       "      <td>0.000000</td>\n",
       "      <td>0.000003</td>\n",
       "      <td>0.000000</td>\n",
       "      <td>5.490000</td>\n",
       "      <td>0.000003</td>\n",
       "      <td>0.000000</td>\n",
       "      <td>0.000000</td>\n",
       "      <td>0.000044</td>\n",
       "      <td>5.741424</td>\n",
       "      <td>0.000000</td>\n",
       "      <td>0.000000</td>\n",
       "      <td>0.000002</td>\n",
       "      <td>0.000003</td>\n",
       "      <td>0.000014</td>\n",
       "      <td>0.000010</td>\n",
       "    </tr>\n",
       "    <tr>\n",
       "      <td>25%</td>\n",
       "      <td>55.007262</td>\n",
       "      <td>50.150146</td>\n",
       "      <td>0.015966</td>\n",
       "      <td>0.003255</td>\n",
       "      <td>6.850000</td>\n",
       "      <td>0.002058</td>\n",
       "      <td>0.000000</td>\n",
       "      <td>0.000000</td>\n",
       "      <td>0.118731</td>\n",
       "      <td>30.493793</td>\n",
       "      <td>0.000000</td>\n",
       "      <td>0.000000</td>\n",
       "      <td>0.003350</td>\n",
       "      <td>0.002317</td>\n",
       "      <td>0.005910</td>\n",
       "      <td>0.020993</td>\n",
       "    </tr>\n",
       "    <tr>\n",
       "      <td>50%</td>\n",
       "      <td>78.998992</td>\n",
       "      <td>64.053785</td>\n",
       "      <td>1.511742</td>\n",
       "      <td>0.020969</td>\n",
       "      <td>7.310000</td>\n",
       "      <td>0.004646</td>\n",
       "      <td>0.000000</td>\n",
       "      <td>0.000000</td>\n",
       "      <td>0.190870</td>\n",
       "      <td>42.127425</td>\n",
       "      <td>0.000000</td>\n",
       "      <td>0.000000</td>\n",
       "      <td>0.013283</td>\n",
       "      <td>0.005251</td>\n",
       "      <td>0.023956</td>\n",
       "      <td>0.935168</td>\n",
       "    </tr>\n",
       "    <tr>\n",
       "      <td>75%</td>\n",
       "      <td>89.269730</td>\n",
       "      <td>76.804550</td>\n",
       "      <td>11.147106</td>\n",
       "      <td>0.191841</td>\n",
       "      <td>7.700000</td>\n",
       "      <td>0.009137</td>\n",
       "      <td>0.000000</td>\n",
       "      <td>0.000000</td>\n",
       "      <td>0.357182</td>\n",
       "      <td>47.700631</td>\n",
       "      <td>0.000000</td>\n",
       "      <td>0.000000</td>\n",
       "      <td>0.133441</td>\n",
       "      <td>0.010223</td>\n",
       "      <td>0.068264</td>\n",
       "      <td>3.347483</td>\n",
       "    </tr>\n",
       "    <tr>\n",
       "      <td>max</td>\n",
       "      <td>100.000000</td>\n",
       "      <td>100.000000</td>\n",
       "      <td>274.409626</td>\n",
       "      <td>40.024582</td>\n",
       "      <td>8.600000</td>\n",
       "      <td>6.027907</td>\n",
       "      <td>9.283511</td>\n",
       "      <td>4.341246</td>\n",
       "      <td>600.234617</td>\n",
       "      <td>339.310813</td>\n",
       "      <td>43.668799</td>\n",
       "      <td>8.298831</td>\n",
       "      <td>23.748453</td>\n",
       "      <td>31.493331</td>\n",
       "      <td>28.949609</td>\n",
       "      <td>18.709478</td>\n",
       "    </tr>\n",
       "  </tbody>\n",
       "</table>\n",
       "</div>"
      ],
      "text/plain": [
       "       rougher.output.recovery  final.output.recovery  \\\n",
       "count              1761.000000            1761.000000   \n",
       "mean                 66.837451              66.051646   \n",
       "std                  28.657888              22.683417   \n",
       "min                   0.000000               0.000000   \n",
       "25%                  55.007262              50.150146   \n",
       "50%                  78.998992              64.053785   \n",
       "75%                  89.269730              76.804550   \n",
       "max                 100.000000             100.000000   \n",
       "\n",
       "       primary_cleaner.input.sulfate  primary_cleaner.input.depressant  \\\n",
       "count                    1761.000000                       1761.000000   \n",
       "mean                       11.659499                          0.690070   \n",
       "std                        26.762782                          2.543995   \n",
       "min                         0.000003                          0.000000   \n",
       "25%                         0.015966                          0.003255   \n",
       "50%                         1.511742                          0.020969   \n",
       "75%                        11.147106                          0.191841   \n",
       "max                       274.409626                         40.024582   \n",
       "\n",
       "       primary_cleaner.input.feed_size  primary_cleaner.input.xanthate  \\\n",
       "count                      1761.000000                     1761.000000   \n",
       "mean                          7.223366                        0.106223   \n",
       "std                           0.632403                        0.494520   \n",
       "min                           5.490000                        0.000003   \n",
       "25%                           6.850000                        0.002058   \n",
       "50%                           7.310000                        0.004646   \n",
       "75%                           7.700000                        0.009137   \n",
       "max                           8.600000                        6.027907   \n",
       "\n",
       "       rougher.input.feed_ag  rougher.input.feed_pb  rougher.input.feed_rate  \\\n",
       "count            1761.000000            1761.000000              1761.000000   \n",
       "mean                0.159038               0.056986                33.166971   \n",
       "std                 0.993583               0.378177                93.633079   \n",
       "min                 0.000000               0.000000                 0.000044   \n",
       "25%                 0.000000               0.000000                 0.118731   \n",
       "50%                 0.000000               0.000000                 0.190870   \n",
       "75%                 0.000000               0.000000                 0.357182   \n",
       "max                 9.283511               4.341246               600.234617   \n",
       "\n",
       "       rougher.input.feed_size  rougher.input.feed_sol  rougher.input.feed_au  \\\n",
       "count              1761.000000             1761.000000            1761.000000   \n",
       "mean                 48.822314                0.343033               0.128164   \n",
       "std                  46.142363                3.425792               0.830030   \n",
       "min                   5.741424                0.000000               0.000000   \n",
       "25%                  30.493793                0.000000               0.000000   \n",
       "50%                  42.127425                0.000000               0.000000   \n",
       "75%                  47.700631                0.000000               0.000000   \n",
       "max                 339.310813               43.668799               8.298831   \n",
       "\n",
       "       rougher.input.floatbank10_sulfate  rougher.input.floatbank10_xanthate  \\\n",
       "count                        1761.000000                         1761.000000   \n",
       "mean                            1.014082                            0.502431   \n",
       "std                             2.955486                            2.278149   \n",
       "min                             0.000002                            0.000003   \n",
       "25%                             0.003350                            0.002317   \n",
       "50%                             0.013283                            0.005251   \n",
       "75%                             0.133441                            0.010223   \n",
       "max                            23.748453                           31.493331   \n",
       "\n",
       "       rougher.input.floatbank11_sulfate  rougher.input.floatbank11_xanthate  \n",
       "count                        1761.000000                         1761.000000  \n",
       "mean                            0.792861                            1.539544  \n",
       "std                             2.311705                            1.840151  \n",
       "min                             0.000014                            0.000010  \n",
       "25%                             0.005910                            0.020993  \n",
       "50%                             0.023956                            0.935168  \n",
       "75%                             0.068264                            3.347483  \n",
       "max                            28.949609                           18.709478  "
      ]
     },
     "execution_count": 8,
     "metadata": {},
     "output_type": "execute_result"
    }
   ],
   "source": [
    "data_full[data_full[re.findall('.+concentrate.+', '\\n'.join(data_full.columns))].sum(axis=1)<1][['rougher.output.recovery', 'final.output.recovery']+re.findall('.+input.+', '\\n'.join(data_full.columns))].describe()"
   ]
  },
  {
   "cell_type": "markdown",
   "metadata": {},
   "source": [
    "Очевидно, что данные мусорные, не может получиться такой хороший выход при таком низкокачественном сырье.\n",
    "Нужно удалить из обоих датасетов данные, близкие к нулю<a id=\"cell2.3_\"></a>"
   ]
  },
  {
   "cell_type": "code",
   "execution_count": 9,
   "metadata": {},
   "outputs": [
    {
     "name": "stdout",
     "output_type": "stream",
     "text": [
      "1761 1.0\n",
      "1760 0.9\n",
      "1760 0.8\n",
      "1760 0.7\n",
      "1760 0.6\n",
      "1760 0.5\n",
      "1759 0.4\n",
      "1757 0.3\n",
      "1756 0.2\n",
      "1402 0.1\n"
     ]
    }
   ],
   "source": [
    "for i in range(10,0,-1):    \n",
    "    print(data_full[data_full[re.findall('.+concentrate.+', '\\n'.join(data_full.columns))].sum(axis=1)<i/10].shape[0], i/10)"
   ]
  },
  {
   "cell_type": "markdown",
   "metadata": {},
   "source": [
    "подходящий критерий: сумма не меньше 0.5"
   ]
  },
  {
   "cell_type": "code",
   "execution_count": 10,
   "metadata": {},
   "outputs": [],
   "source": [
    "data_full = data_full[data_full[re.findall('.+concentrate.+', '\\n'.join(data_full.columns))].sum(axis=1)>=0.5]\n",
    "data_train = data_train[data_train[re.findall('.+concentrate.+', '\\n'.join(data_train.columns))].sum(axis=1)>=0.5]"
   ]
  },
  {
   "cell_type": "markdown",
   "metadata": {},
   "source": [
    "Также нужно попробовать удалить те строки из тестового датафрейма, которые я только что удалил из полного датафрейма"
   ]
  },
  {
   "cell_type": "code",
   "execution_count": 11,
   "metadata": {},
   "outputs": [
    {
     "name": "stdout",
     "output_type": "stream",
     "text": [
      "(5856, 54)\n",
      "(5594, 54)\n"
     ]
    }
   ],
   "source": [
    "data_test = data_test.merge(target_test, left_index=True, right_index=True, how='outer')\n",
    "print(data_test.shape)\n",
    "data_test = data_test.loc[(set(data_full.index) - set(data_train.index))]\n",
    "print(data_test.shape)"
   ]
  },
  {
   "cell_type": "markdown",
   "metadata": {},
   "source": [
    "Результат налицо"
   ]
  },
  {
   "cell_type": "markdown",
   "metadata": {},
   "source": [
    "# 3. Модель<a id=\"cell3\"></a>"
   ]
  },
  {
   "cell_type": "markdown",
   "metadata": {},
   "source": [
    "### 3.1 Создание функции для вычисления sMAPE<a id=\"cell3.1\"></a>"
   ]
  },
  {
   "cell_type": "code",
   "execution_count": 12,
   "metadata": {},
   "outputs": [
    {
     "name": "stdout",
     "output_type": "stream",
     "text": [
      "11.997470090606875\n"
     ]
    }
   ],
   "source": [
    "def sMAPE(prediction=[0], target=[0]):\n",
    "    an=0\n",
    "    k = 0\n",
    "    for i in range(len(prediction)):\n",
    "        y_p = prediction[i]\n",
    "        y_t = target[i]\n",
    "        if y_p==0 and y_t==0:\n",
    "            continue\n",
    "        an += (200 / (len(prediction)) ) * abs(y_t - y_p) / (abs(y_t) + abs(y_p))\n",
    "    return an\n",
    "print(sMAPE(data_full['rougher.output.recovery'], [data_full['rougher.output.recovery'].median()]*data_full.shape[0]))"
   ]
  },
  {
   "cell_type": "markdown",
   "metadata": {},
   "source": [
    "### 3.2 Обучение модели<a id=\"cell3.2\"></a>"
   ]
  },
  {
   "cell_type": "code",
   "execution_count": 13,
   "metadata": {},
   "outputs": [],
   "source": [
    "from sklearn.linear_model import LinearRegression\n",
    "from sklearn.tree import DecisionTreeRegressor\n",
    "from sklearn.ensemble import RandomForestRegressor\n",
    "from sklearn.model_selection import cross_validate\n",
    "from sklearn.metrics import make_scorer\n",
    "\n",
    "\n",
    "smape_ = make_scorer(mean_absolute_error)\n",
    "data_train = data_train[set(data_train.columns) & set(data_test.columns)]\n",
    "features_train = data_train.drop(['rougher.output.recovery', 'final.output.recovery'], axis=1).reset_index(drop=True)\n",
    "target_train = data_train[['rougher.output.recovery', 'final.output.recovery']].reset_index(drop=True)\n",
    "features_test = data_test.drop(['rougher.output.recovery', 'final.output.recovery'], axis=1).reset_index(drop=True)\n",
    "target_test = data_test[['rougher.output.recovery', 'final.output.recovery']].reset_index(drop=True)"
   ]
  },
  {
   "cell_type": "markdown",
   "metadata": {},
   "source": [
    "#### Сравнение эффективностей двух подходов: предсказание пары таргетов, предсказание каждого таргета по отдельности, предсказание каждого таргета по очереди с использованием простейших моделей (линейная регрессия и дерево решений)"
   ]
  },
  {
   "cell_type": "markdown",
   "metadata": {},
   "source": [
    "Предсказание сразу двух признаков"
   ]
  },
  {
   "cell_type": "code",
   "execution_count": 14,
   "metadata": {},
   "outputs": [
    {
     "name": "stderr",
     "output_type": "stream",
     "text": [
      "/opt/conda/lib/python3.7/site-packages/sklearn/model_selection/_split.py:1978: FutureWarning: The default value of cv will change from 3 to 5 in version 0.22. Specify it explicitly to silence this warning.\n",
      "  warnings.warn(CV_WARNING, FutureWarning)\n"
     ]
    },
    {
     "name": "stdout",
     "output_type": "stream",
     "text": [
      "[14.88448397 14.83019322 17.81311289]\n",
      "106.69678237946434\n"
     ]
    }
   ],
   "source": [
    "model_tree = DecisionTreeRegressor()\n",
    "print(cross_validate(model_tree, features_train, target_train, scoring=smape_)['test_score'])\n",
    "model_tree.fit(features_train, target_train)\n",
    "prediction = model_tree.predict(features_test)\n",
    "print(sMAPE(prediction[0], target_train.iloc[:,0])*0.25 + 0.75 * sMAPE(prediction[1], target_train.iloc[:,1]))"
   ]
  },
  {
   "cell_type": "code",
   "execution_count": 15,
   "metadata": {},
   "outputs": [
    {
     "name": "stderr",
     "output_type": "stream",
     "text": [
      "/opt/conda/lib/python3.7/site-packages/sklearn/model_selection/_split.py:1978: FutureWarning: The default value of cv will change from 3 to 5 in version 0.22. Specify it explicitly to silence this warning.\n",
      "  warnings.warn(CV_WARNING, FutureWarning)\n"
     ]
    },
    {
     "name": "stdout",
     "output_type": "stream",
     "text": [
      "[10.34679768 11.55132522 12.46476245]\n",
      "200.0\n"
     ]
    }
   ],
   "source": [
    "model_linear = LinearRegression()\n",
    "print(cross_validate(model_linear, features_train, target_train, scoring=smape_)['test_score'])\n",
    "model_linear.fit(features_train, target_train)\n",
    "prediction = model_linear.predict(features_test)\n",
    "print(sMAPE(prediction[0], target_train.iloc[:,0])*0.25 + 0.75 * sMAPE(prediction[1], target_train.iloc[:,1]))"
   ]
  },
  {
   "cell_type": "markdown",
   "metadata": {},
   "source": [
    "Предсказание признаков по отдельности"
   ]
  },
  {
   "cell_type": "code",
   "execution_count": 16,
   "metadata": {},
   "outputs": [
    {
     "name": "stdout",
     "output_type": "stream",
     "text": [
      "************************************************** rougher.output.recovery **************************************************\n"
     ]
    },
    {
     "name": "stderr",
     "output_type": "stream",
     "text": [
      "/opt/conda/lib/python3.7/site-packages/sklearn/model_selection/_split.py:1978: FutureWarning: The default value of cv will change from 3 to 5 in version 0.22. Specify it explicitly to silence this warning.\n",
      "  warnings.warn(CV_WARNING, FutureWarning)\n"
     ]
    },
    {
     "name": "stdout",
     "output_type": "stream",
     "text": [
      "[33.09569036 12.5720746  17.57313165]\n",
      "26.1771591244101\n",
      "************************************************** final.output.recovery **************************************************\n"
     ]
    },
    {
     "name": "stderr",
     "output_type": "stream",
     "text": [
      "/opt/conda/lib/python3.7/site-packages/sklearn/model_selection/_split.py:1978: FutureWarning: The default value of cv will change from 3 to 5 in version 0.22. Specify it explicitly to silence this warning.\n",
      "  warnings.warn(CV_WARNING, FutureWarning)\n"
     ]
    },
    {
     "name": "stdout",
     "output_type": "stream",
     "text": [
      "[19.86153369 12.5004749  21.30445092]\n",
      "13.443810470715311\n",
      "****************************************************************************************************\n",
      "16.627147634139007\n"
     ]
    }
   ],
   "source": [
    "pr = []\n",
    "model_tree = DecisionTreeRegressor()\n",
    "for title in ['rougher.output.recovery', 'final.output.recovery']:\n",
    "    print('*'*50, title, '*'*50)\n",
    "    print(cross_validate(model_tree, features_train, target_train[title], scoring=smape_)['test_score'])\n",
    "    model_tree.fit(features_train, target_train[title])\n",
    "    prediction = model_tree.predict(features_test)\n",
    "    print(sMAPE(prediction, target_train[title]))\n",
    "    pr.append(sMAPE(prediction, target_train[title]))\n",
    "print('*'*100)\n",
    "print(pr[0]*0.25 + 0.75 * pr[1])"
   ]
  },
  {
   "cell_type": "code",
   "execution_count": 17,
   "metadata": {},
   "outputs": [
    {
     "name": "stdout",
     "output_type": "stream",
     "text": [
      "************************************************** rougher.output.recovery **************************************************\n"
     ]
    },
    {
     "name": "stderr",
     "output_type": "stream",
     "text": [
      "/opt/conda/lib/python3.7/site-packages/sklearn/model_selection/_split.py:1978: FutureWarning: The default value of cv will change from 3 to 5 in version 0.22. Specify it explicitly to silence this warning.\n",
      "  warnings.warn(CV_WARNING, FutureWarning)\n"
     ]
    },
    {
     "name": "stdout",
     "output_type": "stream",
     "text": [
      "[12.49076985 13.38200002 12.13956301]\n",
      "199.9999999999848\n",
      "************************************************** final.output.recovery **************************************************\n"
     ]
    },
    {
     "name": "stderr",
     "output_type": "stream",
     "text": [
      "/opt/conda/lib/python3.7/site-packages/sklearn/model_selection/_split.py:1978: FutureWarning: The default value of cv will change from 3 to 5 in version 0.22. Specify it explicitly to silence this warning.\n",
      "  warnings.warn(CV_WARNING, FutureWarning)\n"
     ]
    },
    {
     "name": "stdout",
     "output_type": "stream",
     "text": [
      "[ 8.20282551  9.72065042 12.78996189]\n",
      "199.97638914329707\n",
      "****************************************************************************************************\n",
      "199.982291857469\n"
     ]
    }
   ],
   "source": [
    "pr = []\n",
    "model_linear = LinearRegression()\n",
    "for title in ['rougher.output.recovery', 'final.output.recovery']:\n",
    "    print('*'*50, title, '*'*50)\n",
    "    print(cross_validate(model_linear, features_train, target_train[title], scoring=smape_)['test_score'])\n",
    "    model_linear.fit(features_train, target_train[title])\n",
    "    prediction = model_linear.predict(features_test)\n",
    "    print(sMAPE(prediction, target_train[title]))\n",
    "    pr.append(sMAPE(prediction, target_train[title]))\n",
    "print('*'*100)\n",
    "print(pr[0]*0.25 + 0.75 * pr[1])"
   ]
  },
  {
   "cell_type": "markdown",
   "metadata": {},
   "source": [
    "Последовательное обучение "
   ]
  },
  {
   "cell_type": "code",
   "execution_count": 18,
   "metadata": {},
   "outputs": [
    {
     "name": "stdout",
     "output_type": "stream",
     "text": [
      "20.53110595946745\n",
      "75.80268188314243\n",
      "61.98478790222368\n"
     ]
    }
   ],
   "source": [
    "scrs = []\n",
    "model_tree = DecisionTreeRegressor()\n",
    "model_tree.fit(features_train, target_train['rougher.output.recovery'])\n",
    "prediction = model_tree.predict(features_test)\n",
    "print(sMAPE(prediction, target_test['rougher.output.recovery']))\n",
    "scrs.append(sMAPE(prediction, target_test['rougher.output.recovery']))\n",
    "\n",
    "features_train_added = features_train.copy()\n",
    "features_test_added = features_test.copy()\n",
    "features_train_added['rougher.output.recovery'] = target_train['rougher.output.recovery']\n",
    "features_test_added['rougher.output.recovery'] = prediction\n",
    "\n",
    "model_tree.fit(features_train_added, target_train['final.output.recovery'])\n",
    "prediction = model_tree.predict(features_test_added)\n",
    "print(sMAPE(prediction, target_test['final.output.recovery']))\n",
    "scrs.append(sMAPE(prediction, target_test['final.output.recovery']))\n",
    "print(scrs[0]*0.25 + scrs[1]*0.75)"
   ]
  },
  {
   "cell_type": "code",
   "execution_count": 19,
   "metadata": {},
   "outputs": [
    {
     "name": "stdout",
     "output_type": "stream",
     "text": [
      "20.422436816437635\n",
      "199.94793071106037\n",
      "155.06655723740468\n"
     ]
    }
   ],
   "source": [
    "scrs = []\n",
    "model_linear = LinearRegression()\n",
    "model_tree = DecisionTreeRegressor()\n",
    "model_tree.fit(features_train, target_train['rougher.output.recovery'])\n",
    "prediction = model_tree.predict(features_test)\n",
    "print(sMAPE(prediction, target_test['rougher.output.recovery']))\n",
    "scrs.append(sMAPE(prediction, target_test['rougher.output.recovery']))\n",
    "\n",
    "features_train_added = features_train.copy()\n",
    "features_test_added = features_test.copy()\n",
    "features_train_added['rougher.output.recovery'] = target_train['rougher.output.recovery']\n",
    "features_test_added['rougher.output.recovery'] = prediction\n",
    "\n",
    "model_linear.fit(features_train_added, target_train['final.output.recovery'])\n",
    "prediction = model_linear.predict(features_test_added)\n",
    "print(sMAPE(prediction, target_test['final.output.recovery']))\n",
    "scrs.append(sMAPE(prediction, target_test['final.output.recovery']))\n",
    "print(scrs[0]*0.25 + scrs[1]*0.75)"
   ]
  },
  {
   "cell_type": "markdown",
   "metadata": {},
   "source": [
    "### Вывод: лучше всего проводить последовательную проверку, используя модели, в своей основе имеющие дерево решений\n",
    "p.s. в последней ячейке я использовал сочетание, а не как раньше (оба раза -- линейную модель), поскольку я уже заметил, что дерево решений дает лучший результат, но я надеялся, что между столбцом rougher.output.recovery и столбцом final.output.recovery обнаружится сильная линейная зависимость, благодаря которой линейная регрессия даст лучший результат. Увы, мои надежды не оправдались"
   ]
  },
  {
   "cell_type": "markdown",
   "metadata": {},
   "source": [
    "## Финальный выбор модели"
   ]
  },
  {
   "cell_type": "code",
   "execution_count": 20,
   "metadata": {},
   "outputs": [
    {
     "name": "stdout",
     "output_type": "stream",
     "text": [
      "11.022766860964824\n",
      "11.821574034901472\n",
      "11.621872241417309\n"
     ]
    }
   ],
   "source": [
    "from catboost import CatBoostRegressor\n",
    "model_cat = CatBoostRegressor(verbose=False)\n",
    "scrs = []\n",
    "\n",
    "model_cat.fit(features_train, target_train['rougher.output.recovery'])\n",
    "prediction = model_cat.predict(features_test)\n",
    "print(sMAPE(prediction, target_test['rougher.output.recovery']))\n",
    "scrs.append(sMAPE(prediction, target_test['rougher.output.recovery']))\n",
    "\n",
    "features_train_added = features_train.copy()\n",
    "features_test_added = features_test.copy()\n",
    "features_train_added['rougher.output.recovery'] = target_train['rougher.output.recovery']\n",
    "features_test_added['rougher.output.recovery'] = prediction\n",
    "\n",
    "model_cat.fit(features_train_added, target_train['final.output.recovery'])\n",
    "prediction = model_cat.predict(features_test_added)\n",
    "print(sMAPE(prediction, target_test['final.output.recovery']))\n",
    "scrs.append(sMAPE(prediction, target_test['final.output.recovery']))\n",
    "print(scrs[0]*0.25 + scrs[1]*0.75)"
   ]
  },
  {
   "cell_type": "markdown",
   "metadata": {},
   "source": [
    "## Вывод:\n",
    "Лучший результат показала модель CatBoost, с предсказанием признаков в две итерации.\n",
    "Далее я бы загрузил обе модели (их же 2: первая, обученная на features_train, и вторая, обученная на features_train + target_train['rougher.output.recovery'] с помощью joblib, и написал бы подробную инструкцию, но не хочется засорять мусором свой компьютер <a id=\"cell3.2_\"></a>"
   ]
  }
 ],
 "metadata": {
  "kernelspec": {
   "display_name": "Python 3",
   "language": "python",
   "name": "python3"
  },
  "language_info": {
   "codemirror_mode": {
    "name": "ipython",
    "version": 3
   },
   "file_extension": ".py",
   "mimetype": "text/x-python",
   "name": "python",
   "nbconvert_exporter": "python",
   "pygments_lexer": "ipython3",
   "version": "3.7.6"
  }
 },
 "nbformat": 4,
 "nbformat_minor": 2
}
