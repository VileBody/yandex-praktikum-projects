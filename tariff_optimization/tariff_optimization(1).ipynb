{
 "cells": [
  {
   "cell_type": "markdown",
   "metadata": {},
   "source": [
    "## Этапы:\n",
    "- [Скачиваю файл](#cell1)\n",
    "- [Разбиваю данные на выборки](#cell2)\n",
    "- [Исследую разные модели](#cell3)\n",
    "- [Проверяю модель на тестовой выборке](#cell4)\n",
    "- [Проверяю модель на адекватность](#cell5)"
   ]
  },
  {
   "cell_type": "markdown",
   "metadata": {},
   "source": [
    "# 1. Скачиваю файл \n",
    "<a id=\"cell1\"><a/>"
   ]
  },
  {
   "cell_type": "code",
   "execution_count": 3,
   "metadata": {},
   "outputs": [
    {
     "data": {
      "text/html": [
       "<div>\n",
       "<style scoped>\n",
       "    .dataframe tbody tr th:only-of-type {\n",
       "        vertical-align: middle;\n",
       "    }\n",
       "\n",
       "    .dataframe tbody tr th {\n",
       "        vertical-align: top;\n",
       "    }\n",
       "\n",
       "    .dataframe thead th {\n",
       "        text-align: right;\n",
       "    }\n",
       "</style>\n",
       "<table border=\"1\" class=\"dataframe\">\n",
       "  <thead>\n",
       "    <tr style=\"text-align: right;\">\n",
       "      <th></th>\n",
       "      <th>calls</th>\n",
       "      <th>minutes</th>\n",
       "      <th>messages</th>\n",
       "      <th>mb_used</th>\n",
       "      <th>is_ultra</th>\n",
       "    </tr>\n",
       "  </thead>\n",
       "  <tbody>\n",
       "    <tr>\n",
       "      <td>0</td>\n",
       "      <td>40.0</td>\n",
       "      <td>311.90</td>\n",
       "      <td>83.0</td>\n",
       "      <td>19915.42</td>\n",
       "      <td>0</td>\n",
       "    </tr>\n",
       "    <tr>\n",
       "      <td>1</td>\n",
       "      <td>85.0</td>\n",
       "      <td>516.75</td>\n",
       "      <td>56.0</td>\n",
       "      <td>22696.96</td>\n",
       "      <td>0</td>\n",
       "    </tr>\n",
       "    <tr>\n",
       "      <td>2</td>\n",
       "      <td>77.0</td>\n",
       "      <td>467.66</td>\n",
       "      <td>86.0</td>\n",
       "      <td>21060.45</td>\n",
       "      <td>0</td>\n",
       "    </tr>\n",
       "    <tr>\n",
       "      <td>3</td>\n",
       "      <td>106.0</td>\n",
       "      <td>745.53</td>\n",
       "      <td>81.0</td>\n",
       "      <td>8437.39</td>\n",
       "      <td>1</td>\n",
       "    </tr>\n",
       "    <tr>\n",
       "      <td>4</td>\n",
       "      <td>66.0</td>\n",
       "      <td>418.74</td>\n",
       "      <td>1.0</td>\n",
       "      <td>14502.75</td>\n",
       "      <td>0</td>\n",
       "    </tr>\n",
       "  </tbody>\n",
       "</table>\n",
       "</div>"
      ],
      "text/plain": [
       "   calls  minutes  messages   mb_used  is_ultra\n",
       "0   40.0   311.90      83.0  19915.42         0\n",
       "1   85.0   516.75      56.0  22696.96         0\n",
       "2   77.0   467.66      86.0  21060.45         0\n",
       "3  106.0   745.53      81.0   8437.39         1\n",
       "4   66.0   418.74       1.0  14502.75         0"
      ]
     },
     "execution_count": 3,
     "metadata": {},
     "output_type": "execute_result"
    }
   ],
   "source": [
    "import pandas as pd\n",
    "data = pd.read_csv('/datasets/users_behavior.csv')\n",
    "data.head()"
   ]
  },
  {
   "cell_type": "markdown",
   "metadata": {},
   "source": [
    "# 2. Разбиваю данные на выборки <a id=\"cell2\"><a/>"
   ]
  },
  {
   "cell_type": "code",
   "execution_count": 4,
   "metadata": {},
   "outputs": [
    {
     "name": "stdout",
     "output_type": "stream",
     "text": [
      "(1928, 5) (643, 5) (643, 5)\n"
     ]
    }
   ],
   "source": [
    "from sklearn.model_selection import train_test_split\n",
    "data_train, data_buf = train_test_split(data, test_size=0.40, random_state=12345)\n",
    "data_test, data_valid = train_test_split(data_buf, test_size=0.50, random_state=12345)\n",
    "print(data_train.shape, data_test.shape, data_valid.shape)\n",
    "features_train, features_valid, features_test = data_train.drop('is_ultra', axis=1), data_valid.drop('is_ultra', axis=1), data_test.drop('is_ultra', axis=1)\n",
    "target_train, target_valid, target_test = data_train['is_ultra'], data_valid['is_ultra'], data_test['is_ultra'] \n"
   ]
  },
  {
   "cell_type": "markdown",
   "metadata": {},
   "source": [
    "# 3. Исследую модели <a id=\"cell3\"><a/>"
   ]
  },
  {
   "cell_type": "markdown",
   "metadata": {},
   "source": [
    "Пробую дерево решений"
   ]
  },
  {
   "cell_type": "code",
   "execution_count": 5,
   "metadata": {},
   "outputs": [
    {
     "data": {
      "text/plain": [
       "[0.7993779160186625,\n",
       " DecisionTreeClassifier(class_weight=None, criterion='gini', max_depth=7,\n",
       "                        max_features=None, max_leaf_nodes=None,\n",
       "                        min_impurity_decrease=0.0, min_impurity_split=None,\n",
       "                        min_samples_leaf=1, min_samples_split=2,\n",
       "                        min_weight_fraction_leaf=0.0, presort=False,\n",
       "                        random_state=12345, splitter='best')]"
      ]
     },
     "execution_count": 5,
     "metadata": {},
     "output_type": "execute_result"
    }
   ],
   "source": [
    "from sklearn.tree import DecisionTreeClassifier\n",
    "from sklearn.metrics import accuracy_score\n",
    "best_model = [0, 0]\n",
    "for depth in range (2, 12):\n",
    "    model = DecisionTreeClassifier(random_state=12345, max_depth = depth)\n",
    "    model.fit(features_train, target_train)\n",
    "    predicted_valid = model.predict(features_valid)\n",
    "    acc = accuracy_score(target_valid, predicted_valid)\n",
    "    if acc > best_model[0]:\n",
    "        best_model[0] = acc\n",
    "        best_model[1] = model\n",
    "best_model"
   ]
  },
  {
   "cell_type": "markdown",
   "metadata": {},
   "source": [
    "Пробую случайный лес"
   ]
  },
  {
   "cell_type": "code",
   "execution_count": 6,
   "metadata": {},
   "outputs": [
    {
     "data": {
      "text/plain": [
       "[0.8133748055987559,\n",
       " RandomForestClassifier(bootstrap=True, class_weight=None, criterion='gini',\n",
       "                        max_depth=9, max_features='auto', max_leaf_nodes=None,\n",
       "                        min_impurity_decrease=0.0, min_impurity_split=None,\n",
       "                        min_samples_leaf=1, min_samples_split=2,\n",
       "                        min_weight_fraction_leaf=0.0, n_estimators=10,\n",
       "                        n_jobs=None, oob_score=False, random_state=12345,\n",
       "                        verbose=0, warm_start=False)]"
      ]
     },
     "execution_count": 6,
     "metadata": {},
     "output_type": "execute_result"
    }
   ],
   "source": [
    "from sklearn.ensemble import RandomForestClassifier\n",
    "for estim in range(10, 51, 10):\n",
    "    for depth in range (2, 12):\n",
    "        model=RandomForestClassifier(random_state=12345, n_estimators=estim, max_depth=depth)\n",
    "        model.fit(features_train, target_train)\n",
    "        predicted_valid = model.predict(features_valid)\n",
    "        acc = accuracy_score(target_valid, predicted_valid)\n",
    "        if acc > best_model[0]:\n",
    "            best_model[0] = acc\n",
    "            best_model[1] = model\n",
    "best_model   "
   ]
  },
  {
   "cell_type": "markdown",
   "metadata": {},
   "source": [
    "Пробую логистическую регрессию"
   ]
  },
  {
   "cell_type": "code",
   "execution_count": 7,
   "metadata": {},
   "outputs": [
    {
     "name": "stderr",
     "output_type": "stream",
     "text": [
      "/opt/conda/lib/python3.7/site-packages/sklearn/linear_model/logistic.py:432: FutureWarning: Default solver will be changed to 'lbfgs' in 0.22. Specify a solver to silence this warning.\n",
      "  FutureWarning)\n"
     ]
    },
    {
     "data": {
      "text/plain": [
       "[0.8133748055987559,\n",
       " RandomForestClassifier(bootstrap=True, class_weight=None, criterion='gini',\n",
       "                        max_depth=9, max_features='auto', max_leaf_nodes=None,\n",
       "                        min_impurity_decrease=0.0, min_impurity_split=None,\n",
       "                        min_samples_leaf=1, min_samples_split=2,\n",
       "                        min_weight_fraction_leaf=0.0, n_estimators=10,\n",
       "                        n_jobs=None, oob_score=False, random_state=12345,\n",
       "                        verbose=0, warm_start=False)]"
      ]
     },
     "execution_count": 7,
     "metadata": {},
     "output_type": "execute_result"
    }
   ],
   "source": [
    "from sklearn.linear_model import LogisticRegression\n",
    "model=LogisticRegression(random_state=12345)\n",
    "model.fit(features_train, target_train)\n",
    "predicted_valid = model.predict(features_valid)\n",
    "acc = accuracy_score(target_valid, predicted_valid)\n",
    "if acc > best_model[0]:\n",
    "    best_model[0] = acc\n",
    "    best_model[1] = model\n",
    "best_model"
   ]
  },
  {
   "cell_type": "markdown",
   "metadata": {},
   "source": [
    "# 4. Проверяю модель на тестовой выборке <a id=\"cell4\"><a/>"
   ]
  },
  {
   "cell_type": "code",
   "execution_count": 8,
   "metadata": {},
   "outputs": [
    {
     "name": "stdout",
     "output_type": "stream",
     "text": [
      "0.7853810264385692\n"
     ]
    }
   ],
   "source": [
    "predicted_test = best_model[1].predict(features_test)\n",
    "print(accuracy_score(target_test, predicted_test))"
   ]
  },
  {
   "cell_type": "markdown",
   "metadata": {},
   "source": [
    "# 5. Проверяю модель на адекватность (это задание было бонусным) <a id=\"cell5\"><a/>"
   ]
  },
  {
   "cell_type": "markdown",
   "metadata": {},
   "source": [
    "не совсем понимаю, что значит адекватность, ведь точность уже была выше проверена\n",
    "поступлю следующим образом:\n",
    "\n",
    "    В марте прошлого года я проходил медицинское обследование для военкомата, и в числе прочего я прошел психиатрическое обследование, по итогу которого выяснилось, что я здоров. Таким образом, в некотором смысле, я являюсь адекватным человеком, и мои суждения, соответственно, долны быть адекватными. Для проверки адекватности моей модели я выберу выделяющиеся пользователей, у которых имеется хотя бы один показатель, лежащий ниже 1 квартиля и выше 3. Данные, принадлежащие основной массе мне рассматривать бесполезно, тк какие то адекватные суждения выносить там сложно, а статистический анализ проводить бесполезно, поскольку модель, на мой взгляд, способна учитывать статистику."
   ]
  },
  {
   "cell_type": "markdown",
   "metadata": {},
   "source": [
    "поразмыслив, решил сперва посмотреть, где же все таки расположены ошибки. оказалось -- большая их часть расположена во 2 и 3 квартиле. Значит, в том смысле, что я указал выше, модель работает адекватно. Насчет качества предсказания в целом можно спорить, обсуждать, размышлять, но поскольку требуемый порог я прошел, думаю на этом этапе можно пока остановиться."
   ]
  },
  {
   "cell_type": "code",
   "execution_count": 9,
   "metadata": {},
   "outputs": [
    {
     "name": "stdout",
     "output_type": "stream",
     "text": [
      "138 -- число ошибок\n",
      "---------------------------\n",
      "---------------------------\n",
      "ошибочные строки из 2 и 3 квартиля\n"
     ]
    },
    {
     "data": {
      "text/html": [
       "<div>\n",
       "<style scoped>\n",
       "    .dataframe tbody tr th:only-of-type {\n",
       "        vertical-align: middle;\n",
       "    }\n",
       "\n",
       "    .dataframe tbody tr th {\n",
       "        vertical-align: top;\n",
       "    }\n",
       "\n",
       "    .dataframe thead th {\n",
       "        text-align: right;\n",
       "    }\n",
       "</style>\n",
       "<table border=\"1\" class=\"dataframe\">\n",
       "  <thead>\n",
       "    <tr style=\"text-align: right;\">\n",
       "      <th></th>\n",
       "      <th>calls</th>\n",
       "      <th>minutes</th>\n",
       "      <th>messages</th>\n",
       "      <th>mb_used</th>\n",
       "      <th>is_ultra</th>\n",
       "    </tr>\n",
       "  </thead>\n",
       "  <tbody>\n",
       "    <tr>\n",
       "      <td>604</td>\n",
       "      <td>10.0</td>\n",
       "      <td>96.29</td>\n",
       "      <td>20.0</td>\n",
       "      <td>3184.72</td>\n",
       "      <td>1</td>\n",
       "    </tr>\n",
       "    <tr>\n",
       "      <td>1094</td>\n",
       "      <td>0.0</td>\n",
       "      <td>0.00</td>\n",
       "      <td>35.0</td>\n",
       "      <td>17322.59</td>\n",
       "      <td>0</td>\n",
       "    </tr>\n",
       "    <tr>\n",
       "      <td>2593</td>\n",
       "      <td>98.0</td>\n",
       "      <td>761.57</td>\n",
       "      <td>0.0</td>\n",
       "      <td>21046.27</td>\n",
       "      <td>0</td>\n",
       "    </tr>\n",
       "    <tr>\n",
       "      <td>1231</td>\n",
       "      <td>13.0</td>\n",
       "      <td>82.55</td>\n",
       "      <td>4.0</td>\n",
       "      <td>2890.46</td>\n",
       "      <td>1</td>\n",
       "    </tr>\n",
       "    <tr>\n",
       "      <td>2510</td>\n",
       "      <td>63.0</td>\n",
       "      <td>508.70</td>\n",
       "      <td>21.0</td>\n",
       "      <td>19254.67</td>\n",
       "      <td>1</td>\n",
       "    </tr>\n",
       "    <tr>\n",
       "      <td>...</td>\n",
       "      <td>...</td>\n",
       "      <td>...</td>\n",
       "      <td>...</td>\n",
       "      <td>...</td>\n",
       "      <td>...</td>\n",
       "    </tr>\n",
       "    <tr>\n",
       "      <td>1628</td>\n",
       "      <td>85.0</td>\n",
       "      <td>509.61</td>\n",
       "      <td>4.0</td>\n",
       "      <td>26802.84</td>\n",
       "      <td>0</td>\n",
       "    </tr>\n",
       "    <tr>\n",
       "      <td>2850</td>\n",
       "      <td>46.0</td>\n",
       "      <td>309.91</td>\n",
       "      <td>105.0</td>\n",
       "      <td>6444.87</td>\n",
       "      <td>0</td>\n",
       "    </tr>\n",
       "    <tr>\n",
       "      <td>2066</td>\n",
       "      <td>24.0</td>\n",
       "      <td>163.09</td>\n",
       "      <td>33.0</td>\n",
       "      <td>22268.51</td>\n",
       "      <td>1</td>\n",
       "    </tr>\n",
       "    <tr>\n",
       "      <td>2695</td>\n",
       "      <td>92.0</td>\n",
       "      <td>614.41</td>\n",
       "      <td>49.0</td>\n",
       "      <td>16303.34</td>\n",
       "      <td>1</td>\n",
       "    </tr>\n",
       "    <tr>\n",
       "      <td>1667</td>\n",
       "      <td>10.0</td>\n",
       "      <td>63.03</td>\n",
       "      <td>0.0</td>\n",
       "      <td>2568.00</td>\n",
       "      <td>1</td>\n",
       "    </tr>\n",
       "  </tbody>\n",
       "</table>\n",
       "<p>134 rows × 5 columns</p>\n",
       "</div>"
      ],
      "text/plain": [
       "      calls  minutes  messages   mb_used  is_ultra\n",
       "604    10.0    96.29      20.0   3184.72         1\n",
       "1094    0.0     0.00      35.0  17322.59         0\n",
       "2593   98.0   761.57       0.0  21046.27         0\n",
       "1231   13.0    82.55       4.0   2890.46         1\n",
       "2510   63.0   508.70      21.0  19254.67         1\n",
       "...     ...      ...       ...       ...       ...\n",
       "1628   85.0   509.61       4.0  26802.84         0\n",
       "2850   46.0   309.91     105.0   6444.87         0\n",
       "2066   24.0   163.09      33.0  22268.51         1\n",
       "2695   92.0   614.41      49.0  16303.34         1\n",
       "1667   10.0    63.03       0.0   2568.00         1\n",
       "\n",
       "[134 rows x 5 columns]"
      ]
     },
     "execution_count": 9,
     "metadata": {},
     "output_type": "execute_result"
    }
   ],
   "source": [
    "mistakes = data_test[data_test['is_ultra']!=predicted_test]\n",
    "calls_std, minutes_std, messages_std, mb_std = data_test['calls'].std(), data_test['minutes'].std(), data_test['messages'].std(), data_test['mb_used'].std()\n",
    "#строка выше -- поиск стандартных отклонений для каждого столбца data_test\n",
    "calls_median, minutes_median, messages_median, mb_median = data_test['calls'].median(), data_test['minutes'].median(), data_test['messages'].median(), data_test['mb_used'].median()\n",
    "#ищу медиану\n",
    "print(mistakes.shape[0], '-- число ошибок')\n",
    "print('---------------------------')\n",
    "print('---------------------------')\n",
    "print('ошибочные строки из 2 и 3 квартиля')\n",
    "mistakes[((mistakes['calls']>calls_median-calls_std) & (mistakes['calls']<calls_median+calls_std))|((mistakes['minutes']>minutes_median-minutes_std) & (mistakes['minutes']<minutes_median+minutes_std))|((mistakes['messages']>messages_median-messages_std) & (mistakes['messages']<messages_median+messages_std))|((mistakes['mb_used']>mb_median-mb_std) & (mistakes['mb_used']<mb_median+mb_std))]\n",
    "     "
   ]
  }
 ],
 "metadata": {
  "kernelspec": {
   "display_name": "Python 3",
   "language": "python",
   "name": "python3"
  },
  "language_info": {
   "codemirror_mode": {
    "name": "ipython",
    "version": 3
   },
   "file_extension": ".py",
   "mimetype": "text/x-python",
   "name": "python",
   "nbconvert_exporter": "python",
   "pygments_lexer": "ipython3",
   "version": "3.7.6"
  }
 },
 "nbformat": 4,
 "nbformat_minor": 2
}
